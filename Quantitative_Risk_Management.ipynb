{
 "cells": [
  {
   "cell_type": "markdown",
   "metadata": {},
   "source": [
    "## Quantitative Risk Management Assignement\n",
    "Giuliano Cunti <br>\n",
    "Lukas Schreiner\n",
    "<br>\n",
    "Due: 2.Dec.2018"
   ]
  },
  {
   "cell_type": "code",
   "execution_count": 1,
   "metadata": {},
   "outputs": [],
   "source": [
    "#Import Libraries\n",
    "import numpy as np\n",
    "import pandas as pd\n",
    "\n",
    "from copulas.bivariate.base import Bivariate\n",
    "from copulas.multivariate.gaussian import GaussianMultivariate\n",
    "import scipy.stats as st\n",
    "\n",
    "import matplotlib.pyplot as plt\n",
    "\n",
    "#Set random number seed in order to generate coherent results\n",
    "np.random.seed(1)"
   ]
  },
  {
   "cell_type": "code",
   "execution_count": 2,
   "metadata": {},
   "outputs": [],
   "source": [
    "#Disable Warnings \n",
    "from warnings import filterwarnings\n",
    "filterwarnings('ignore')"
   ]
  },
  {
   "cell_type": "code",
   "execution_count": 3,
   "metadata": {},
   "outputs": [
    {
     "data": {
      "text/html": [
       "<div>\n",
       "<style scoped>\n",
       "    .dataframe tbody tr th:only-of-type {\n",
       "        vertical-align: middle;\n",
       "    }\n",
       "\n",
       "    .dataframe tbody tr th {\n",
       "        vertical-align: top;\n",
       "    }\n",
       "\n",
       "    .dataframe thead th {\n",
       "        text-align: right;\n",
       "    }\n",
       "</style>\n",
       "<table border=\"1\" class=\"dataframe\">\n",
       "  <thead>\n",
       "    <tr style=\"text-align: right;\">\n",
       "      <th></th>\n",
       "      <th>MXEUC Index</th>\n",
       "      <th>SPX Index</th>\n",
       "      <th>MXEUC Returns</th>\n",
       "      <th>SPX Returns</th>\n",
       "      <th>LT Returns</th>\n",
       "    </tr>\n",
       "    <tr>\n",
       "      <th>Date</th>\n",
       "      <th></th>\n",
       "      <th></th>\n",
       "      <th></th>\n",
       "      <th></th>\n",
       "      <th></th>\n",
       "    </tr>\n",
       "  </thead>\n",
       "  <tbody>\n",
       "    <tr>\n",
       "      <th>2005-01-03</th>\n",
       "      <td>89.6602</td>\n",
       "      <td>1202.0891</td>\n",
       "      <td>0.005159</td>\n",
       "      <td>-0.008109</td>\n",
       "      <td>-0.004128</td>\n",
       "    </tr>\n",
       "    <tr>\n",
       "      <th>2005-01-04</th>\n",
       "      <td>90.0505</td>\n",
       "      <td>1188.1801</td>\n",
       "      <td>0.004353</td>\n",
       "      <td>-0.011571</td>\n",
       "      <td>-0.006794</td>\n",
       "    </tr>\n",
       "    <tr>\n",
       "      <th>2005-01-05</th>\n",
       "      <td>89.4664</td>\n",
       "      <td>1183.9815</td>\n",
       "      <td>-0.006486</td>\n",
       "      <td>-0.003534</td>\n",
       "      <td>-0.004419</td>\n",
       "    </tr>\n",
       "    <tr>\n",
       "      <th>2005-01-06</th>\n",
       "      <td>89.9265</td>\n",
       "      <td>1188.3980</td>\n",
       "      <td>0.005143</td>\n",
       "      <td>0.003730</td>\n",
       "      <td>0.004154</td>\n",
       "    </tr>\n",
       "    <tr>\n",
       "      <th>2005-01-07</th>\n",
       "      <td>90.6058</td>\n",
       "      <td>1186.7126</td>\n",
       "      <td>0.007554</td>\n",
       "      <td>-0.001418</td>\n",
       "      <td>0.001273</td>\n",
       "    </tr>\n",
       "  </tbody>\n",
       "</table>\n",
       "</div>"
      ],
      "text/plain": [
       "            MXEUC Index  SPX Index  MXEUC Returns  SPX Returns  LT Returns\n",
       "Date                                                                      \n",
       "2005-01-03      89.6602  1202.0891       0.005159    -0.008109   -0.004128\n",
       "2005-01-04      90.0505  1188.1801       0.004353    -0.011571   -0.006794\n",
       "2005-01-05      89.4664  1183.9815      -0.006486    -0.003534   -0.004419\n",
       "2005-01-06      89.9265  1188.3980       0.005143     0.003730    0.004154\n",
       "2005-01-07      90.6058  1186.7126       0.007554    -0.001418    0.001273"
      ]
     },
     "execution_count": 3,
     "metadata": {},
     "output_type": "execute_result"
    }
   ],
   "source": [
    "#Import Data MXEUC Index\n",
    "data1 = pd.read_excel('qrm18HSG_assignmentdata.xlsx', usecols = \"A,B\" ,\n",
    "                      names = [ 'Date', 'MXEUC Index']).set_index('Date')\n",
    "data1 = data1.iloc[1:]\n",
    "#Import Data SPX Index\n",
    "data2 = pd.read_excel('qrm18HSG_assignmentdata.xlsx', usecols = \"C,D\" ,\n",
    "                      names = [ 'Date', 'SPX Index']).set_index('Date')\n",
    "data2 = data2.iloc[1:]\n",
    "\n",
    "#Merge Data\n",
    "data = pd.concat([data1, data2], axis = 1, join_axes = [data1.index])\n",
    "\n",
    "#Convert to numerical values interpolate missing values\n",
    "data['SPX Index'] = pd.to_numeric(data['SPX Index'])\n",
    "data['MXEUC Index'] = pd.to_numeric(data['MXEUC Index'])\n",
    "data['SPX Index'] = data['SPX Index'].interpolate()\n",
    "\n",
    "#Calculate Returns of the Indices\n",
    "data['MXEUC Returns'] = data['MXEUC Index']/data['MXEUC Index'].shift(1) - 1\n",
    "data['SPX Returns'] = data['SPX Index']/data['SPX Index'].shift(1) - 1\n",
    "\n",
    "data['LT Returns'] = (0.3 * data['MXEUC Returns'] + 0.7 * data['SPX Returns'])\n",
    "\n",
    "#Only take the latest 500 Oberservations (Questions i,ii, iii)\n",
    "data_500 = data.iloc[1:501]\n",
    "\n",
    "data_500.head()"
   ]
  },
  {
   "cell_type": "markdown",
   "metadata": {},
   "source": [
    "### Question i)"
   ]
  },
  {
   "cell_type": "markdown",
   "metadata": {},
   "source": [
    "<b>Model 1</b>"
   ]
  },
  {
   "cell_type": "code",
   "execution_count": 4,
   "metadata": {},
   "outputs": [],
   "source": [
    "#Calculate the emprical CDF\n",
    "empricial_cdf = np.array([data_500.sort_values('MXEUC Returns')\\\n",
    "                         ['MXEUC Returns'].values, \n",
    "                          data_500.sort_values('SPX Returns')\\\n",
    "                         ['SPX Returns'].values,\n",
    "                          data_500.sort_values('LT Returns')\\\n",
    "                         ['LT Returns'].values])"
   ]
  },
  {
   "cell_type": "code",
   "execution_count": 5,
   "metadata": {},
   "outputs": [
    {
     "data": {
      "image/png": "[encoded data removed]",
      "text/plain": [
       "<Figure size 1440x432 with 2 Axes>"
      ]
     },
     "metadata": {},
     "output_type": "display_data"
    }
   ],
   "source": [
    "#Plot CDF and histogramm of the MXEUC\n",
    "figure_indices = plt.figure(figsize = (20,6))\n",
    "\n",
    "chart_1  = figure_indices.add_subplot(121)\n",
    "chart_1.hist(empricial_cdf[0], 50 ,density = True, facecolor = 'xkcd:coral')\n",
    "chart_1.set_title('Histogram MXEUC')\n",
    "\n",
    "chart_2  = figure_indices.add_subplot(122)\n",
    "chart_2.hist(empricial_cdf[1], 50 ,density = True, facecolor = 'xkcd:coral')\n",
    "chart_2.set_title('Histogram SPX')\n",
    "\n",
    "plt.show()"
   ]
  },
  {
   "cell_type": "code",
   "execution_count": 6,
   "metadata": {},
   "outputs": [
    {
     "data": {
      "image/png": "[encoded data removed]",
      "text/plain": [
       "<Figure size 1440x432 with 2 Axes>"
      ]
     },
     "metadata": {},
     "output_type": "display_data"
    }
   ],
   "source": [
    "#Plot CDF and histogramm of the SPX\n",
    "figure_portfolio = plt.figure(figsize = (20,6))\n",
    "\n",
    "chart_1  = figure_portfolio.add_subplot(121)\n",
    "chart_1.plot(empricial_cdf[2])\n",
    "chart_1.set_title('Portfolio Empirical CDF')\n",
    "\n",
    "chart_2  = figure_portfolio.add_subplot(122)\n",
    "chart_2.hist(empricial_cdf[2], 50 ,density = True, facecolor = 'xkcd:coral')\n",
    "chart_2.set_title('Histogram Portfolio Returns')\n",
    "\n",
    "plt.show()"
   ]
  },
  {
   "cell_type": "markdown",
   "metadata": {},
   "source": [
    "<b>Model 2</b>"
   ]
  },
  {
   "cell_type": "code",
   "execution_count": 7,
   "metadata": {},
   "outputs": [],
   "source": [
    "#Calculate Sample Means and Covariance Matrix\n",
    "def sample_moments_indices(data):\n",
    "\n",
    "    means = [np.mean(data['MXEUC Returns']), \n",
    "             np.mean(data['SPX Returns'])]\n",
    "    \n",
    "    stds  = [np.std(data['MXEUC Returns']), \n",
    "             np.std(data['SPX Returns'])]\n",
    "    \n",
    "    cov_mat = np.cov(data['MXEUC Returns'], \n",
    "                     data['SPX Returns'], ddof = 0)\n",
    "    \n",
    "    return means, cov_mat, stds"
   ]
  },
  {
   "cell_type": "code",
   "execution_count": 8,
   "metadata": {},
   "outputs": [
    {
     "name": "stdout",
     "output_type": "stream",
     "text": [
      "[0.0007688865556201618, 0.00037513875090646164]\n",
      "[[5.06108727e-05 1.92605961e-05]\n",
      " [1.92605961e-05 3.91579477e-05]]\n",
      "[0.007114131899084827, 0.006257631156282389]\n"
     ]
    }
   ],
   "source": [
    "#Calculate the sample means of the latest 500 obervations\n",
    "means, cov_mat, stds =  sample_moments_indices(data_500)\n",
    "print(means)\n",
    "print(cov_mat)\n",
    "print(stds)"
   ]
  },
  {
   "cell_type": "markdown",
   "metadata": {},
   "source": [
    "<b>Model 3</b> "
   ]
  },
  {
   "cell_type": "code",
   "execution_count": 9,
   "metadata": {},
   "outputs": [],
   "source": [
    "#Normalize the data\n",
    "data_500['MXEUC Returns Normalized'] = (data_500['MXEUC Returns'] - means[0])/\\\n",
    "                                       (np.sqrt(cov_mat[0][0]))\n",
    "data_500['SPX Returns Normalized']   = (data_500['SPX Returns'] - means[1])/\\\n",
    "                                       (np.sqrt(cov_mat[1][1]))\n",
    "\n",
    "#Apply the normalized data on a CDF to get probablities\n",
    "data_500['MXEUC RN CDF'] = st.norm.cdf(data_500['MXEUC Returns Normalized'].values)\n",
    "data_500['SPX RN CDF']   = st.norm.cdf(data_500['SPX Returns Normalized'].values)"
   ]
  },
  {
   "cell_type": "code",
   "execution_count": 10,
   "metadata": {},
   "outputs": [],
   "source": [
    "#Create an array that contains only the return data\n",
    "copula_data = np.array([data_500['MXEUC Returns'], data_500['SPX Returns']]).T"
   ]
  },
  {
   "cell_type": "code",
   "execution_count": 11,
   "metadata": {
    "scrolled": true
   },
   "outputs": [
    {
     "data": {
      "text/plain": [
       "1.3831731143911365"
      ]
     },
     "execution_count": 11,
     "metadata": {},
     "output_type": "execute_result"
    }
   ],
   "source": [
    "#Fit a bivariate gumbel copula\n",
    "#The copulas library from Data to AI Lab at MIT is used\n",
    "#https://pypi.org/project/copulas/\n",
    "\n",
    "gumbel = Bivariate(copula_type = 'Gumbel')\n",
    "gumbel.fit(copula_data)\n",
    "gumbel.compute_theta()"
   ]
  },
  {
   "cell_type": "markdown",
   "metadata": {},
   "source": [
    "<b>Model 4</b>"
   ]
  },
  {
   "cell_type": "code",
   "execution_count": 12,
   "metadata": {
    "scrolled": true
   },
   "outputs": [],
   "source": [
    "def model_4(data, size):\n",
    "    \n",
    "    #Calculate covariance matrix\n",
    "    cov_mat  = np.corrcoef(data['MXEUC Returns'], data['SPX Returns'])\n",
    "    \n",
    "    #Calculate sample momemts\n",
    "    means, _, stds = sample_moments_indices(data)\n",
    "    \n",
    "    #Degrees of freedom \n",
    "    v = 5\n",
    "    # Random chisquared RV W\n",
    "    W = np.random.chisquare(df = v, size = size)\n",
    "    # Define bivariate gaussian RV Z\n",
    "    Z = np.random.multivariate_normal(means, cov_mat, size = size).T\n",
    "    \n",
    "    # Calculate X (see 4.4.3 on assignment sheet)\n",
    "    # X is t-distributed with ν degrees of freedom and correlation parameter ρ.\n",
    "    # Represents the error term in model 4\n",
    "    X = np.sqrt(v/W)*Z\n",
    "    \n",
    "    #Calculate estimates for the return series\n",
    "    #Ri = meani + sigmai * Xi\n",
    "    MXEUC_estimate = means[0] + np.dot(stds[0],X[0])\n",
    "    SPX_estimate   = means[1] + np.dot(stds[1],X[1])\n",
    "\n",
    "    # Calculate portfolio return\n",
    "    portfolio_return = np.add(np.dot(0.3,MXEUC_estimate),np.dot(0.7,SPX_estimate))\n",
    "\n",
    "    return portfolio_return"
   ]
  },
  {
   "cell_type": "markdown",
   "metadata": {},
   "source": [
    "### Question ii)"
   ]
  },
  {
   "cell_type": "code",
   "execution_count": 13,
   "metadata": {},
   "outputs": [],
   "source": [
    "#Define Expetected Shortfall\n",
    "def exp_shortfall(alpha, data):\n",
    "    \n",
    "    mu = np.mean(data)\n",
    "    sigma = np.std(data)\n",
    "    \n",
    "    return -(alpha**(- 1) * st.norm.pdf(st.norm.ppf(alpha)) * sigma - mu)\n",
    "\n",
    "#Define Value at Risk\n",
    "def var(alpha, data):\n",
    "    return - (np.mean(data) - st.norm.ppf(alpha) * np.std(data))\n",
    "\n",
    "#Empirical Var with flexibel alpha level\n",
    "def emp_var(alpha, data):\n",
    "    \n",
    "    index = int(np.around(len(data) *alpha))\n",
    "    \n",
    "    returns_sorted = np.sort(data)\n",
    "    \n",
    "    return returns_sorted[index]\n",
    "\n",
    "#Empirical Expected Shortfall\n",
    "def emp_expshort(alpha, data):\n",
    "    \n",
    "    varalpha = var(alpha, data)\n",
    "    \n",
    "    deltas = []\n",
    "    \n",
    "    #Check wheter the indicator function delta is one or zero for all datapoints and take the sum \n",
    "    for i in range(0,len(data)):\n",
    "        deltas.append(int(data[i] < varalpha))\n",
    "\n",
    "    ES = (-1/np.sum(deltas))*np.sum(deltas * data)\n",
    "    \n",
    "    return -ES "
   ]
  },
  {
   "cell_type": "code",
   "execution_count": 14,
   "metadata": {},
   "outputs": [],
   "source": [
    "#Create table with risk measures\n",
    "def calculate_risk_measures(data, name):\n",
    "    \n",
    "    #define dictionary to store the values in\n",
    "    output = dict.fromkeys(['Exp. SF','VAR'])\n",
    "\n",
    "    #Calculate the Expected Short Fall\n",
    "    output['Exp. SF'] = [exp_shortfall(0.1, data), \n",
    "                         exp_shortfall(0.05, data),\n",
    "                         exp_shortfall(0.01, data)]\n",
    "\n",
    "    #Calculate the Value at Risk\n",
    "    output['VAR'] =  [var(0.1, data), \n",
    "                      var(0.05, data),\n",
    "                      var(0.01, data)]\n",
    "\n",
    "    output_table = pd.DataFrame(output, index = ['90%', '95%', '99%'])\n",
    "    output_table.index.name = name\n",
    "    \n",
    "    return output_table\n",
    "\n",
    "#Create table with empirical risk measures\n",
    "def calculate_emp_risk_measures(data, name):\n",
    "    \n",
    "    #define dictionary to store the values in\n",
    "    output = dict.fromkeys(['Emp. Exp. SF','Emp. VAR'])\n",
    "\n",
    "    #Calculate the Empirical Expected Short Fall\n",
    "    output['Emp. Exp. SF'] = [emp_expshort(0.1, data), \n",
    "                              emp_expshort(0.05, data),\n",
    "                              emp_expshort(0.01, data)]\n",
    "\n",
    "    #Calculate the Empirical Value at Risk\n",
    "    output['Emp. VAR'] =  [emp_var(0.1, data), \n",
    "                           emp_var(0.05, data),\n",
    "                           emp_var(0.01, data)]\n",
    "\n",
    "    output_table = pd.DataFrame(output, index = ['90%', '95%', '99%'])\n",
    "    output_table.index.name = name\n",
    "    \n",
    "    return output_table"
   ]
  },
  {
   "cell_type": "markdown",
   "metadata": {},
   "source": [
    "<b>Model 1<b>"
   ]
  },
  {
   "cell_type": "code",
   "execution_count": 15,
   "metadata": {},
   "outputs": [],
   "source": [
    "#Generate 10'000 random numbers bewteen 0 and 500\n",
    "rand_int = np.random.randint(0,500,10000)\n",
    "#Draw 10'000 random returns from the sorted return verctor (empricial_cdf)\n",
    "random_return_series_m1 = np.array([empricial_cdf[0][rand_int], \n",
    "                                    empricial_cdf[1][rand_int]])\n",
    "#Calculate Portfolio Return\n",
    "port_ret_m1 = (0.3 * random_return_series_m1[0] + 0.7 * random_return_series_m1[0])"
   ]
  },
  {
   "cell_type": "code",
   "execution_count": 16,
   "metadata": {
    "scrolled": true
   },
   "outputs": [
    {
     "data": {
      "text/html": [
       "<div>\n",
       "<style scoped>\n",
       "    .dataframe tbody tr th:only-of-type {\n",
       "        vertical-align: middle;\n",
       "    }\n",
       "\n",
       "    .dataframe tbody tr th {\n",
       "        vertical-align: top;\n",
       "    }\n",
       "\n",
       "    .dataframe thead th {\n",
       "        text-align: right;\n",
       "    }\n",
       "</style>\n",
       "<table border=\"1\" class=\"dataframe\">\n",
       "  <thead>\n",
       "    <tr style=\"text-align: right;\">\n",
       "      <th></th>\n",
       "      <th>Emp. Exp. SF</th>\n",
       "      <th>Emp. VAR</th>\n",
       "    </tr>\n",
       "    <tr>\n",
       "      <th>Model 1</th>\n",
       "      <th></th>\n",
       "      <th></th>\n",
       "    </tr>\n",
       "  </thead>\n",
       "  <tbody>\n",
       "    <tr>\n",
       "      <th>90%</th>\n",
       "      <td>-0.015077</td>\n",
       "      <td>-0.007373</td>\n",
       "    </tr>\n",
       "    <tr>\n",
       "      <th>95%</th>\n",
       "      <td>-0.017915</td>\n",
       "      <td>-0.011285</td>\n",
       "    </tr>\n",
       "    <tr>\n",
       "      <th>99%</th>\n",
       "      <td>-0.022652</td>\n",
       "      <td>-0.021062</td>\n",
       "    </tr>\n",
       "  </tbody>\n",
       "</table>\n",
       "</div>"
      ],
      "text/plain": [
       "         Emp. Exp. SF  Emp. VAR\n",
       "Model 1                        \n",
       "90%         -0.015077 -0.007373\n",
       "95%         -0.017915 -0.011285\n",
       "99%         -0.022652 -0.021062"
      ]
     },
     "execution_count": 16,
     "metadata": {},
     "output_type": "execute_result"
    }
   ],
   "source": [
    "#Calculate Emprical Risk Measures for Model 1\n",
    "rm_emp_model_1 = calculate_emp_risk_measures(port_ret_m1, 'Model 1')\n",
    "rm_emp_model_1"
   ]
  },
  {
   "cell_type": "code",
   "execution_count": 17,
   "metadata": {},
   "outputs": [
    {
     "data": {
      "image/png": "[encoded data removed]",
      "text/plain": [
       "<Figure size 432x288 with 1 Axes>"
      ]
     },
     "metadata": {},
     "output_type": "display_data"
    }
   ],
   "source": [
    "chart = plt.hist(port_ret_m1, 50,\n",
    "                 density = True, \n",
    "                 facecolor = 'xkcd:coral', \n",
    "                 label = 'Model 1 Empirical Dsitribution')\n",
    "\n",
    "chart = plt.axvline(x = rm_emp_model_1['Emp. VAR']['95%'], color = 'grey', \n",
    "                    linestyle = '--', \n",
    "                    label ='95% Var')\n",
    "\n",
    "chart = plt.axvline(x = rm_emp_model_1['Emp. Exp. SF']['95%'], color = 'grey', \n",
    "                    linestyle = ':', \n",
    "                    label ='95% Exp Short Fall')\n",
    "plt.legend()\n",
    "plt.show()"
   ]
  },
  {
   "cell_type": "code",
   "execution_count": 18,
   "metadata": {},
   "outputs": [
    {
     "data": {
      "text/html": [
       "<div>\n",
       "<style scoped>\n",
       "    .dataframe tbody tr th:only-of-type {\n",
       "        vertical-align: middle;\n",
       "    }\n",
       "\n",
       "    .dataframe tbody tr th {\n",
       "        vertical-align: top;\n",
       "    }\n",
       "\n",
       "    .dataframe thead th {\n",
       "        text-align: right;\n",
       "    }\n",
       "</style>\n",
       "<table border=\"1\" class=\"dataframe\">\n",
       "  <thead>\n",
       "    <tr style=\"text-align: right;\">\n",
       "      <th></th>\n",
       "      <th>Exp. SF</th>\n",
       "      <th>VAR</th>\n",
       "    </tr>\n",
       "    <tr>\n",
       "      <th>Model 1</th>\n",
       "      <th></th>\n",
       "      <th></th>\n",
       "    </tr>\n",
       "  </thead>\n",
       "  <tbody>\n",
       "    <tr>\n",
       "      <th>90%</th>\n",
       "      <td>-0.011518</td>\n",
       "      <td>-0.009807</td>\n",
       "    </tr>\n",
       "    <tr>\n",
       "      <th>95%</th>\n",
       "      <td>-0.013680</td>\n",
       "      <td>-0.012359</td>\n",
       "    </tr>\n",
       "    <tr>\n",
       "      <th>99%</th>\n",
       "      <td>-0.017911</td>\n",
       "      <td>-0.017145</td>\n",
       "    </tr>\n",
       "  </tbody>\n",
       "</table>\n",
       "</div>"
      ],
      "text/plain": [
       "          Exp. SF       VAR\n",
       "Model 1                    \n",
       "90%     -0.011518 -0.009807\n",
       "95%     -0.013680 -0.012359\n",
       "99%     -0.017911 -0.017145"
      ]
     },
     "execution_count": 18,
     "metadata": {},
     "output_type": "execute_result"
    }
   ],
   "source": [
    "#Calculate Risk Measures for Model 1\n",
    "rm_model_1 = calculate_risk_measures(port_ret_m1, 'Model 1')\n",
    "rm_model_1"
   ]
  },
  {
   "cell_type": "code",
   "execution_count": 39,
   "metadata": {
    "scrolled": true
   },
   "outputs": [
    {
     "data": {
      "image/png": "[encoded data removed]",
      "text/plain": [
       "<Figure size 432x288 with 1 Axes>"
      ]
     },
     "metadata": {},
     "output_type": "display_data"
    }
   ],
   "source": [
    "chart = plt.hist(port_ret_m1, 50,\n",
    "                 density = True, \n",
    "                 facecolor = 'xkcd:coral', \n",
    "                 label = 'Model 1 Empirical Dsitribution')\n",
    "\n",
    "chart = plt.axvline(x = rm_model_1['VAR']['95%'], color = 'grey', \n",
    "                    linestyle = '--', \n",
    "                    label ='95% Var')\n",
    "\n",
    "chart = plt.axvline(x = rm_model_1['Exp. SF']['95%'], color = 'grey', \n",
    "                    linestyle = ':', \n",
    "                    label ='95% Exp Short Fall')\n",
    "\n",
    "plt.legend()\n",
    "plt.show()"
   ]
  },
  {
   "cell_type": "markdown",
   "metadata": {},
   "source": [
    "### Question iii)\n",
    "\n",
    "\n",
    "<b>Model 2</b>"
   ]
  },
  {
   "cell_type": "code",
   "execution_count": 20,
   "metadata": {},
   "outputs": [],
   "source": [
    "#Model 2\n",
    "#Create a random return series\n",
    "random_return_series_m2 = np.random.multivariate_normal(means, \n",
    "                                                        cov_mat, \n",
    "                                                        size = (10000))\n",
    "\n",
    "#Calculate Portfolio Return\n",
    "port_ret_m2 = np.add(np.dot(0.3,[i[0] for i in random_return_series_m2]), \n",
    "                     np.dot(0.7,[i[1] for i in random_return_series_m2]))"
   ]
  },
  {
   "cell_type": "code",
   "execution_count": 21,
   "metadata": {
    "scrolled": true
   },
   "outputs": [
    {
     "data": {
      "text/html": [
       "<div>\n",
       "<style scoped>\n",
       "    .dataframe tbody tr th:only-of-type {\n",
       "        vertical-align: middle;\n",
       "    }\n",
       "\n",
       "    .dataframe tbody tr th {\n",
       "        vertical-align: top;\n",
       "    }\n",
       "\n",
       "    .dataframe thead th {\n",
       "        text-align: right;\n",
       "    }\n",
       "</style>\n",
       "<table border=\"1\" class=\"dataframe\">\n",
       "  <thead>\n",
       "    <tr style=\"text-align: right;\">\n",
       "      <th></th>\n",
       "      <th>Exp. SF</th>\n",
       "      <th>VAR</th>\n",
       "    </tr>\n",
       "    <tr>\n",
       "      <th>Model 2</th>\n",
       "      <th></th>\n",
       "      <th></th>\n",
       "    </tr>\n",
       "  </thead>\n",
       "  <tbody>\n",
       "    <tr>\n",
       "      <th>90%</th>\n",
       "      <td>-0.009554</td>\n",
       "      <td>-0.007673</td>\n",
       "    </tr>\n",
       "    <tr>\n",
       "      <th>95%</th>\n",
       "      <td>-0.011299</td>\n",
       "      <td>-0.009734</td>\n",
       "    </tr>\n",
       "    <tr>\n",
       "      <th>99%</th>\n",
       "      <td>-0.014717</td>\n",
       "      <td>-0.013600</td>\n",
       "    </tr>\n",
       "  </tbody>\n",
       "</table>\n",
       "</div>"
      ],
      "text/plain": [
       "          Exp. SF       VAR\n",
       "Model 2                    \n",
       "90%     -0.009554 -0.007673\n",
       "95%     -0.011299 -0.009734\n",
       "99%     -0.014717 -0.013600"
      ]
     },
     "execution_count": 21,
     "metadata": {},
     "output_type": "execute_result"
    }
   ],
   "source": [
    "#Calculate Risk Measures for model 2\n",
    "rm_model_2 = calculate_risk_measures(port_ret_m2, 'Model 2')\n",
    "rm_model_2"
   ]
  },
  {
   "cell_type": "code",
   "execution_count": 22,
   "metadata": {},
   "outputs": [
    {
     "data": {
      "image/png": "[encoded data removed]",
      "text/plain": [
       "<Figure size 432x288 with 1 Axes>"
      ]
     },
     "metadata": {},
     "output_type": "display_data"
    }
   ],
   "source": [
    "chart = plt.hist(port_ret_m2, 50,\n",
    "                 density = True, \n",
    "                 facecolor = 'xkcd:coral', \n",
    "                 label = 'Model 2 Distribution')\n",
    "\n",
    "chart = plt.axvline(x = rm_model_2['VAR']['95%'], color = 'grey', \n",
    "                    linestyle = '--', \n",
    "                    label ='95% Var')\n",
    "\n",
    "chart = plt.axvline(x = rm_model_2['Exp. SF']['95%'], color = 'grey', \n",
    "                    linestyle = ':', \n",
    "                    label ='95% Exp Short Fall')\n",
    "plt.legend()\n",
    "plt.show()"
   ]
  },
  {
   "cell_type": "markdown",
   "metadata": {},
   "source": [
    "<b>Model 4</b>"
   ]
  },
  {
   "cell_type": "code",
   "execution_count": 23,
   "metadata": {},
   "outputs": [
    {
     "data": {
      "text/html": [
       "<div>\n",
       "<style scoped>\n",
       "    .dataframe tbody tr th:only-of-type {\n",
       "        vertical-align: middle;\n",
       "    }\n",
       "\n",
       "    .dataframe tbody tr th {\n",
       "        vertical-align: top;\n",
       "    }\n",
       "\n",
       "    .dataframe thead th {\n",
       "        text-align: right;\n",
       "    }\n",
       "</style>\n",
       "<table border=\"1\" class=\"dataframe\">\n",
       "  <thead>\n",
       "    <tr style=\"text-align: right;\">\n",
       "      <th></th>\n",
       "      <th>Exp. SF</th>\n",
       "      <th>VAR</th>\n",
       "    </tr>\n",
       "    <tr>\n",
       "      <th>Model 4</th>\n",
       "      <th></th>\n",
       "      <th></th>\n",
       "    </tr>\n",
       "  </thead>\n",
       "  <tbody>\n",
       "    <tr>\n",
       "      <th>90%</th>\n",
       "      <td>-0.012428</td>\n",
       "      <td>-0.010084</td>\n",
       "    </tr>\n",
       "    <tr>\n",
       "      <th>95%</th>\n",
       "      <td>-0.014709</td>\n",
       "      <td>-0.012778</td>\n",
       "    </tr>\n",
       "    <tr>\n",
       "      <th>99%</th>\n",
       "      <td>-0.019176</td>\n",
       "      <td>-0.017830</td>\n",
       "    </tr>\n",
       "  </tbody>\n",
       "</table>\n",
       "</div>"
      ],
      "text/plain": [
       "          Exp. SF       VAR\n",
       "Model 4                    \n",
       "90%     -0.012428 -0.010084\n",
       "95%     -0.014709 -0.012778\n",
       "99%     -0.019176 -0.017830"
      ]
     },
     "execution_count": 23,
     "metadata": {},
     "output_type": "execute_result"
    }
   ],
   "source": [
    "random_return_series_m4 = model_4(data_500, 1000)\n",
    "rm_model_4 = calculate_risk_measures(random_return_series_m4, 'Model 4')\n",
    "rm_model_4"
   ]
  },
  {
   "cell_type": "code",
   "execution_count": 24,
   "metadata": {},
   "outputs": [
    {
     "data": {
      "image/png": "[encoded data removed]",
      "text/plain": [
       "<Figure size 432x288 with 1 Axes>"
      ]
     },
     "metadata": {},
     "output_type": "display_data"
    }
   ],
   "source": [
    "chart = plt.hist(random_return_series_m4, 50,\n",
    "                 density = True, \n",
    "                 facecolor = 'xkcd:coral', \n",
    "                 label = 'Model 4 Distribution')\n",
    "\n",
    "chart = plt.axvline(x = rm_model_4['VAR']['95%'], color = 'grey', \n",
    "                    linestyle = '--', \n",
    "                    label ='95% Var')\n",
    "\n",
    "chart = plt.axvline(x = rm_model_4['Exp. SF']['95%'], color = 'grey', \n",
    "                    linestyle = ':', \n",
    "                    label ='95% Exp Short Fall')\n",
    "plt.legend()\n",
    "plt.show()"
   ]
  },
  {
   "cell_type": "markdown",
   "metadata": {},
   "source": [
    "### Question iv)"
   ]
  },
  {
   "cell_type": "code",
   "execution_count": 25,
   "metadata": {},
   "outputs": [],
   "source": [
    "def historic_EF(data):\n",
    "    #Data has to be a pandas series with 1000 historical returns \n",
    "    \n",
    "    #Define dictionary to store the values in\n",
    "    output_EF = dict.fromkeys(['100','200','500','1000'])\n",
    "\n",
    "    #Calculate the Expected Short Fall for the latest 100 observations\n",
    "    output_EF['100'] = [exp_shortfall(0.1,    data.iloc[0:100]), \n",
    "                        exp_shortfall(0.05,   data.iloc[0:100]),\n",
    "                        exp_shortfall(0.01,   data.iloc[0:100])]\n",
    "\n",
    "    #Calculate the Expected Short Fall for the latest 200 observations\n",
    "    output_EF['200'] =  [exp_shortfall(0.1,  data.iloc[0:200]), \n",
    "                         exp_shortfall(0.05, data.iloc[0:200]),\n",
    "                         exp_shortfall(0.01, data.iloc[0:200])]\n",
    "    \n",
    "    #Calculate the Expected Short Fall for the latest 500 observations\n",
    "    output_EF['500'] =  [exp_shortfall(0.1,  data.iloc[0:500]), \n",
    "                         exp_shortfall(0.05, data.iloc[0:500]),\n",
    "                         exp_shortfall(0.01, data.iloc[0:500])]\n",
    "    \n",
    "    #Calculate the Expected Short Fall for the latest 1000 observations\n",
    "    output_EF['1000'] =  [exp_shortfall(0.1,  data.iloc[0:1000]), \n",
    "                          exp_shortfall(0.05, data.iloc[0:1000]),\n",
    "                          exp_shortfall(0.01, data.iloc[0:1000])]\n",
    "\n",
    "    output_table_EF = pd.DataFrame(output_EF, index = ['90%', '95%', '99%'])\n",
    "    output_table_EF.index.name = 'EF Hist. R'\n",
    "    \n",
    "    return output_table_EF       \n",
    "\n",
    "def historic_VAR(data):\n",
    "    #Data has to be a pandas series with 1000 historical returns \n",
    "    \n",
    "    #Define dictionary to store the values in\n",
    "    output_VAR = dict.fromkeys(['100','200','500','1000'])\n",
    "\n",
    "    #Calculate the VAR for the latest 100 observations\n",
    "    output_VAR['100'] = [var(0.1,    data.iloc[0:100]), \n",
    "                         var(0.05,   data.iloc[0:100]),\n",
    "                         var(0.01,   data.iloc[0:100])]\n",
    "\n",
    "    #Calculate the VAR for the latest 200 observations\n",
    "    output_VAR['200'] =  [var(0.1,  data.iloc[0:200]), \n",
    "                          var(0.05, data.iloc[0:200]),\n",
    "                          var(0.01, data.iloc[0:200])]\n",
    "    \n",
    "    #Calculate the VAR for the latest 500 observations\n",
    "    output_VAR['500'] =  [var(0.1,  data.iloc[0:500]), \n",
    "                          var(0.05, data.iloc[0:500]),\n",
    "                          var(0.01, data.iloc[0:500])]\n",
    "    \n",
    "    #Calculate the VAR for the latest 1000 observations\n",
    "    output_VAR['1000'] =  [var(0.1,  data.iloc[0:1000]), \n",
    "                           var(0.05, data.iloc[0:1000]),\n",
    "                           var(0.01, data.iloc[0:1000])]\n",
    "\n",
    "    output_VAR = pd.DataFrame(output_VAR, index = ['90%', '95%', '99%'])\n",
    "    output_VAR.index.name = 'VAR Hist. R'\n",
    "    \n",
    "    return output_VAR       "
   ]
  },
  {
   "cell_type": "code",
   "execution_count": 26,
   "metadata": {},
   "outputs": [
    {
     "data": {
      "text/html": [
       "<div>\n",
       "<style scoped>\n",
       "    .dataframe tbody tr th:only-of-type {\n",
       "        vertical-align: middle;\n",
       "    }\n",
       "\n",
       "    .dataframe tbody tr th {\n",
       "        vertical-align: top;\n",
       "    }\n",
       "\n",
       "    .dataframe thead th {\n",
       "        text-align: right;\n",
       "    }\n",
       "</style>\n",
       "<table border=\"1\" class=\"dataframe\">\n",
       "  <thead>\n",
       "    <tr style=\"text-align: right;\">\n",
       "      <th></th>\n",
       "      <th>100</th>\n",
       "      <th>200</th>\n",
       "      <th>500</th>\n",
       "      <th>1000</th>\n",
       "    </tr>\n",
       "    <tr>\n",
       "      <th>EF Hist. R</th>\n",
       "      <th></th>\n",
       "      <th></th>\n",
       "      <th></th>\n",
       "      <th></th>\n",
       "    </tr>\n",
       "  </thead>\n",
       "  <tbody>\n",
       "    <tr>\n",
       "      <th>90%</th>\n",
       "      <td>-0.009762</td>\n",
       "      <td>-0.008883</td>\n",
       "      <td>-0.009402</td>\n",
       "      <td>-0.019875</td>\n",
       "    </tr>\n",
       "    <tr>\n",
       "      <th>95%</th>\n",
       "      <td>-0.011500</td>\n",
       "      <td>-0.010489</td>\n",
       "      <td>-0.011138</td>\n",
       "      <td>-0.023350</td>\n",
       "    </tr>\n",
       "    <tr>\n",
       "      <th>99%</th>\n",
       "      <td>-0.014901</td>\n",
       "      <td>-0.013633</td>\n",
       "      <td>-0.014539</td>\n",
       "      <td>-0.030155</td>\n",
       "    </tr>\n",
       "  </tbody>\n",
       "</table>\n",
       "</div>"
      ],
      "text/plain": [
       "                 100       200       500      1000\n",
       "EF Hist. R                                        \n",
       "90%        -0.009762 -0.008883 -0.009402 -0.019875\n",
       "95%        -0.011500 -0.010489 -0.011138 -0.023350\n",
       "99%        -0.014901 -0.013633 -0.014539 -0.030155"
      ]
     },
     "execution_count": 26,
     "metadata": {},
     "output_type": "execute_result"
    }
   ],
   "source": [
    "#Historic expected shortfall for the MXEUC with diffrent number of observations\n",
    "hist_EF = historic_EF(data['LT Returns'])#\n",
    "hist_EF"
   ]
  },
  {
   "cell_type": "code",
   "execution_count": 27,
   "metadata": {},
   "outputs": [
    {
     "data": {
      "text/html": [
       "<div>\n",
       "<style scoped>\n",
       "    .dataframe tbody tr th:only-of-type {\n",
       "        vertical-align: middle;\n",
       "    }\n",
       "\n",
       "    .dataframe tbody tr th {\n",
       "        vertical-align: top;\n",
       "    }\n",
       "\n",
       "    .dataframe thead th {\n",
       "        text-align: right;\n",
       "    }\n",
       "</style>\n",
       "<table border=\"1\" class=\"dataframe\">\n",
       "  <thead>\n",
       "    <tr style=\"text-align: right;\">\n",
       "      <th></th>\n",
       "      <th>100</th>\n",
       "      <th>200</th>\n",
       "      <th>500</th>\n",
       "      <th>1000</th>\n",
       "    </tr>\n",
       "    <tr>\n",
       "      <th>VAR Hist. R</th>\n",
       "      <th></th>\n",
       "      <th></th>\n",
       "      <th></th>\n",
       "      <th></th>\n",
       "    </tr>\n",
       "  </thead>\n",
       "  <tbody>\n",
       "    <tr>\n",
       "      <th>90%</th>\n",
       "      <td>-0.007381</td>\n",
       "      <td>-0.006961</td>\n",
       "      <td>-0.007735</td>\n",
       "      <td>-0.014421</td>\n",
       "    </tr>\n",
       "    <tr>\n",
       "      <th>95%</th>\n",
       "      <td>-0.009433</td>\n",
       "      <td>-0.008857</td>\n",
       "      <td>-0.009786</td>\n",
       "      <td>-0.018524</td>\n",
       "    </tr>\n",
       "    <tr>\n",
       "      <th>99%</th>\n",
       "      <td>-0.013280</td>\n",
       "      <td>-0.012413</td>\n",
       "      <td>-0.013632</td>\n",
       "      <td>-0.026221</td>\n",
       "    </tr>\n",
       "  </tbody>\n",
       "</table>\n",
       "</div>"
      ],
      "text/plain": [
       "                  100       200       500      1000\n",
       "VAR Hist. R                                        \n",
       "90%         -0.007381 -0.006961 -0.007735 -0.014421\n",
       "95%         -0.009433 -0.008857 -0.009786 -0.018524\n",
       "99%         -0.013280 -0.012413 -0.013632 -0.026221"
      ]
     },
     "execution_count": 27,
     "metadata": {},
     "output_type": "execute_result"
    }
   ],
   "source": [
    "#Historic expected shortfall for the SPX with diffrent number of observations\n",
    "historic_VAR(data['LT Returns'])"
   ]
  },
  {
   "cell_type": "markdown",
   "metadata": {},
   "source": [
    "### Question v)\n",
    "<b>Model 2</b>"
   ]
  },
  {
   "cell_type": "code",
   "execution_count": 28,
   "metadata": {
    "scrolled": true
   },
   "outputs": [],
   "source": [
    "#Initilaized List to store the values for var and the 1 day ahead portfolio return\n",
    "rw_var = []\n",
    "day_ahead_return = []\n",
    "\n",
    "for i in range(1,len(data.index) - 201):\n",
    "    #Get the rolling window \n",
    "    rw_data = data.iloc[i:i + 200]\n",
    "\n",
    "    #Save the actual 1 day ahead (of the window) return in the list\n",
    "    day_ahead_return.append(data['LT Returns'].iloc[i + 200 + 1])\n",
    "\n",
    "    #Calculate the moments for that window\n",
    "    rw_means, rw_cov_mat, _ = sample_moments_indices(rw_data)\n",
    "\n",
    "    #Simulated index returns on the basis of the rolling window monents\n",
    "    rw_sim_returns = np.random.multivariate_normal(rw_means, rw_cov_mat, size = 100)\n",
    "\n",
    "    #Calculte the simululated portfolio return\n",
    "    #'[i[0] for i in rw_sim_returns]' gives the first/second elements \n",
    "    #from the 2 dimensional vector 'rw_sim_returns'\n",
    "    rw_port_returns = np.add(np.dot(0.3,[i[0] for i in rw_sim_returns]), \n",
    "                             np.dot(0.7,[i[1] for i in rw_sim_returns]))\n",
    "\n",
    "    #Calculate Var and store it in the list\n",
    "    rw_var.append(var(0.05, rw_port_returns))"
   ]
  },
  {
   "cell_type": "code",
   "execution_count": 29,
   "metadata": {},
   "outputs": [
    {
     "data": {
      "image/png": "[encoded data removed]",
      "text/plain": [
       "<Figure size 432x288 with 1 Axes>"
      ]
     },
     "metadata": {},
     "output_type": "display_data"
    }
   ],
   "source": [
    "plt.plot(rw_var, label = 'Value at Risk')\n",
    "plt.plot(day_ahead_return, label = '1 Day Ahead Return')\n",
    "\n",
    "plt.xlabel('Trading Days')\n",
    "plt.ylabel('Returns')\n",
    "plt.legend()\n",
    "plt.show()"
   ]
  },
  {
   "cell_type": "code",
   "execution_count": 30,
   "metadata": {},
   "outputs": [
    {
     "name": "stdout",
     "output_type": "stream",
     "text": [
      "Model 2: The Var was violated  191  times which is  5.63  Percent\n"
     ]
    }
   ],
   "source": [
    "#Count the number of times the the VAR was violated\n",
    "count = 0\n",
    "loc = []\n",
    "for i in range(0,len(rw_var)):\n",
    "    if rw_var[i] > day_ahead_return[i]:\n",
    "        count += 1  \n",
    "        loc.append(i)\n",
    "        \n",
    "print('Model 2: The Var was violated ',count,' times which is ',\n",
    "      round(count/len(rw_var)*100,2),' Percent')"
   ]
  },
  {
   "cell_type": "markdown",
   "metadata": {},
   "source": [
    "<b>Model 4</b>"
   ]
  },
  {
   "cell_type": "code",
   "execution_count": 31,
   "metadata": {},
   "outputs": [],
   "source": [
    "rw_var = []\n",
    "day_ahead_return = []\n",
    "\n",
    "for i in range(1,len(data.index) - 201):\n",
    "    \n",
    "    #Get the rolling window \n",
    "    rw_data = data.iloc[i:i + 200]\n",
    "\n",
    "    #Save the actual 1 day ahead (of the window) return in the list\n",
    "    day_ahead_return.append(data['LT Returns'].iloc[i + 200 + 1])\n",
    "\n",
    "    #Calculate the moments for that window\n",
    "    rw_means, rw_cov_mat, rw_stds = sample_moments_indices(rw_data)\n",
    "\n",
    "    #Simulated index returns on the basis of the rolling window monents\n",
    "    rw_port_returns = model_4(rw_data, size = 1000)\n",
    "\n",
    "    #Calculate Var and store it in the list\n",
    "    rw_var.append(var(0.05, rw_port_returns))"
   ]
  },
  {
   "cell_type": "code",
   "execution_count": 32,
   "metadata": {
    "scrolled": true
   },
   "outputs": [
    {
     "data": {
      "image/png": "[encoded data removed]",
      "text/plain": [
       "<Figure size 432x288 with 1 Axes>"
      ]
     },
     "metadata": {},
     "output_type": "display_data"
    }
   ],
   "source": [
    "plt.plot(rw_var, label = 'Value at Risk')\n",
    "plt.plot(day_ahead_return, label = '1 Day Ahead Return')\n",
    "\n",
    "plt.xlabel('Trading Days')\n",
    "plt.ylabel('Returns')\n",
    "plt.legend()\n",
    "plt.show()"
   ]
  },
  {
   "cell_type": "code",
   "execution_count": 33,
   "metadata": {},
   "outputs": [
    {
     "name": "stdout",
     "output_type": "stream",
     "text": [
      "Model 4: The Var was violated  117  times which is  3.45  Percent\n"
     ]
    }
   ],
   "source": [
    "#Count the number of times the the VAR was violated\n",
    "count = 0\n",
    "loc = []\n",
    "for i in range(0,len(rw_var)):\n",
    "    if rw_var[i] > day_ahead_return[i]:\n",
    "        count += 1  \n",
    "        loc.append(i)\n",
    "        \n",
    "print('Model 4: The Var was violated ',count,' times which is ',\n",
    "      round(count/len(rw_var)*100,2),' Percent')"
   ]
  },
  {
   "cell_type": "code",
   "execution_count": null,
   "metadata": {},
   "outputs": [],
   "source": []
  }
 ],
 "metadata": {
  "kernelspec": {
   "display_name": "Python 3",
   "language": "python",
   "name": "python3"
  },
  "language_info": {
   "codemirror_mode": {
    "name": "ipython",
    "version": 3
   },
   "file_extension": ".py",
   "mimetype": "text/x-python",
   "name": "python",
   "nbconvert_exporter": "python",
   "pygments_lexer": "ipython3",
   "version": "3.6.5"
  }
 },
 "nbformat": 4,
 "nbformat_minor": 2
}
