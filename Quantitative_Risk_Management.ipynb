{
 "cells": [
  {
   "cell_type": "markdown",
   "metadata": {},
   "source": [
    "## Quantitative Risk Management Assignement\n",
    "Giuliano Cunti <br>\n",
    "Lukas Schreiner"
   ]
  },
  {
   "cell_type": "code",
   "execution_count": 1,
   "metadata": {},
   "outputs": [],
   "source": [
    "#Import Libraries\n",
    "import numpy as np\n",
    "import pandas as pd\n",
    "\n",
    "from copulas.bivariate.base import Bivariate\n",
    "import scipy.stats as st\n",
    "\n",
    "import matplotlib.pyplot as plt\n",
    "\n",
    "#Set random number seed in order to generate coherent results\n",
    "np.random.seed(1)"
   ]
  },
  {
   "cell_type": "code",
   "execution_count": 2,
   "metadata": {},
   "outputs": [
    {
     "data": {
      "text/html": [
       "<div>\n",
       "<style scoped>\n",
       "    .dataframe tbody tr th:only-of-type {\n",
       "        vertical-align: middle;\n",
       "    }\n",
       "\n",
       "    .dataframe tbody tr th {\n",
       "        vertical-align: top;\n",
       "    }\n",
       "\n",
       "    .dataframe thead th {\n",
       "        text-align: right;\n",
       "    }\n",
       "</style>\n",
       "<table border=\"1\" class=\"dataframe\">\n",
       "  <thead>\n",
       "    <tr style=\"text-align: right;\">\n",
       "      <th></th>\n",
       "      <th>MXEUC Index</th>\n",
       "      <th>SPX Index</th>\n",
       "      <th>MXEUC Returns</th>\n",
       "      <th>SPX Returns</th>\n",
       "    </tr>\n",
       "    <tr>\n",
       "      <th>Date</th>\n",
       "      <th></th>\n",
       "      <th></th>\n",
       "      <th></th>\n",
       "      <th></th>\n",
       "    </tr>\n",
       "  </thead>\n",
       "  <tbody>\n",
       "    <tr>\n",
       "      <th>2005-01-03</th>\n",
       "      <td>89.6602</td>\n",
       "      <td>1202.0891</td>\n",
       "      <td>0.005159</td>\n",
       "      <td>-0.008109</td>\n",
       "    </tr>\n",
       "    <tr>\n",
       "      <th>2005-01-04</th>\n",
       "      <td>90.0505</td>\n",
       "      <td>1188.1801</td>\n",
       "      <td>0.004353</td>\n",
       "      <td>-0.011571</td>\n",
       "    </tr>\n",
       "    <tr>\n",
       "      <th>2005-01-05</th>\n",
       "      <td>89.4664</td>\n",
       "      <td>1183.9815</td>\n",
       "      <td>-0.006486</td>\n",
       "      <td>-0.003534</td>\n",
       "    </tr>\n",
       "    <tr>\n",
       "      <th>2005-01-06</th>\n",
       "      <td>89.9265</td>\n",
       "      <td>1188.3980</td>\n",
       "      <td>0.005143</td>\n",
       "      <td>0.003730</td>\n",
       "    </tr>\n",
       "    <tr>\n",
       "      <th>2005-01-07</th>\n",
       "      <td>90.6058</td>\n",
       "      <td>1186.7126</td>\n",
       "      <td>0.007554</td>\n",
       "      <td>-0.001418</td>\n",
       "    </tr>\n",
       "  </tbody>\n",
       "</table>\n",
       "</div>"
      ],
      "text/plain": [
       "            MXEUC Index  SPX Index  MXEUC Returns  SPX Returns\n",
       "Date                                                          \n",
       "2005-01-03      89.6602  1202.0891       0.005159    -0.008109\n",
       "2005-01-04      90.0505  1188.1801       0.004353    -0.011571\n",
       "2005-01-05      89.4664  1183.9815      -0.006486    -0.003534\n",
       "2005-01-06      89.9265  1188.3980       0.005143     0.003730\n",
       "2005-01-07      90.6058  1186.7126       0.007554    -0.001418"
      ]
     },
     "execution_count": 2,
     "metadata": {},
     "output_type": "execute_result"
    }
   ],
   "source": [
    "#Import Data MXEUC Index\n",
    "data1 = pd.read_excel('qrm18HSG_assignmentdata.xlsx', usecols = \"A,B\" ,names = [ 'Date', 'MXEUC Index']).set_index('Date')\n",
    "data1 = data1.iloc[1:]\n",
    "#Import Data SPX Index\n",
    "data2 = pd.read_excel('qrm18HSG_assignmentdata.xlsx', usecols = \"C,D\" ,names = [ 'Date', 'SPX Index']).set_index('Date')\n",
    "data2 = data2.iloc[1:]\n",
    "\n",
    "#Merge Data\n",
    "data = pd.concat([data1, data2], axis = 1, join_axes = [data1.index])\n",
    "\n",
    "#Convert to numerical values interpolate missing values\n",
    "data['SPX Index'] = pd.to_numeric(data['SPX Index'])\n",
    "data['MXEUC Index'] = pd.to_numeric(data['MXEUC Index'])\n",
    "data['SPX Index'] = data['SPX Index'].interpolate()\n",
    "\n",
    "#Calculate Returns of the Indices\n",
    "data['MXEUC Returns'] = data['MXEUC Index']/data['MXEUC Index'].shift(1) - 1\n",
    "data['SPX Returns'] = data['SPX Index']/data['SPX Index'].shift(1) - 1\n",
    "\n",
    "#Only take the newest 500 Oberservations\n",
    "data = data.iloc[1:501]\n",
    "\n",
    "data.head()"
   ]
  },
  {
   "cell_type": "markdown",
   "metadata": {},
   "source": [
    "### Question i)"
   ]
  },
  {
   "cell_type": "markdown",
   "metadata": {},
   "source": [
    "<b>Model 1</b> <br>\n",
    "<br>\n",
    "R is distributed according to the empirical distribution."
   ]
  },
  {
   "cell_type": "code",
   "execution_count": 3,
   "metadata": {},
   "outputs": [],
   "source": [
    "#Calculate the emprical CDF\n",
    "empricial_cdf = np.array([data.sort_values('MXEUC Returns')['MXEUC Returns'].values, \n",
    "                 data.sort_values('SPX Returns')['SPX Returns'].values])"
   ]
  },
  {
   "cell_type": "code",
   "execution_count": 4,
   "metadata": {},
   "outputs": [
    {
     "data": {
      "image/png": "[encoded data removed]",
      "text/plain": [
       "<Figure size 1440x432 with 2 Axes>"
      ]
     },
     "metadata": {},
     "output_type": "display_data"
    }
   ],
   "source": [
    "#Plot CDF and histogramm of the MXEUC\n",
    "figure_MXEUC = plt.figure(figsize = (20,6))\n",
    "\n",
    "chart_1  = figure_MXEUC.add_subplot(121)\n",
    "chart_1.plot(empricial_cdf[0])\n",
    "chart_1.set_title('CDF MXEUC')\n",
    "\n",
    "chart_2  = figure_MXEUC.add_subplot(122)\n",
    "chart_2.hist(empricial_cdf[0], 50 ,density = True, facecolor = 'grey')\n",
    "chart_2.set_title('Histogram MXEUC')\n",
    "\n",
    "plt.show()"
   ]
  },
  {
   "cell_type": "code",
   "execution_count": 5,
   "metadata": {},
   "outputs": [
    {
     "data": {
      "image/png": "[encoded data removed]",
      "text/plain": [
       "<Figure size 1440x432 with 2 Axes>"
      ]
     },
     "metadata": {},
     "output_type": "display_data"
    }
   ],
   "source": [
    "#Plot CDF and histogramm of the SPX\n",
    "figure_SPX = plt.figure(figsize = (20,6))\n",
    "\n",
    "chart_1  = figure_SPX.add_subplot(121)\n",
    "chart_1.plot(empricial_cdf[1])\n",
    "chart_1.set_title('SPX Index')\n",
    "\n",
    "chart_2  = figure_SPX.add_subplot(122)\n",
    "chart_2.hist(empricial_cdf[1], 50 ,density = True, facecolor = 'grey')\n",
    "chart_2.set_title('Histogram SPX')\n",
    "\n",
    "plt.show()"
   ]
  },
  {
   "cell_type": "markdown",
   "metadata": {},
   "source": [
    "<b>Model 2</b><br>\n",
    "<br>\n",
    "R is bivariate Gaussian distributed with mean vector μ and covariance matrix Σ"
   ]
  },
  {
   "cell_type": "code",
   "execution_count": 6,
   "metadata": {},
   "outputs": [
    {
     "name": "stdout",
     "output_type": "stream",
     "text": [
      "[0.0007688865556201618, 0.00037513875090646164]\n",
      "[5.061087267757628e-05, 3.915794768807607e-05]\n"
     ]
    }
   ],
   "source": [
    "#Calculate Sample Means and Variances\n",
    "means = [np.mean(data['MXEUC Returns']), np.mean(data['SPX Returns'])]\n",
    "print(means)\n",
    "variances = [np.var(data['MXEUC Returns']), np.var(data['SPX Returns'])]\n",
    "print(variances)"
   ]
  },
  {
   "cell_type": "code",
   "execution_count": 7,
   "metadata": {
    "scrolled": false
   },
   "outputs": [
    {
     "name": "stdout",
     "output_type": "stream",
     "text": [
      "[[5.06108727e-05 1.92605961e-05]\n",
      " [1.92605961e-05 3.91579477e-05]]\n"
     ]
    }
   ],
   "source": [
    "#Calculate Covariance Matrix\n",
    "cov_mat = np.cov(data['MXEUC Returns'], data['SPX Returns'], ddof = 0)\n",
    "print(cov_mat)"
   ]
  },
  {
   "cell_type": "markdown",
   "metadata": {},
   "source": [
    "<b>Model 3</b> <br>\n",
    "<br>\n",
    "Ri is Gaussian distributed with mean μ and variance σ, for i = 1, 2. These parameters\n",
    "are the same as for model M2.\n",
    "\n",
    "Moreover, the normalized vector of returns possesses a Gumbel-copula with parameter θ ≥ 1"
   ]
  },
  {
   "cell_type": "code",
   "execution_count": 8,
   "metadata": {},
   "outputs": [],
   "source": [
    "#Normalize the data\n",
    "data['MXEUC Returns Normalized'] = (data['MXEUC Returns'] - means[0])/(np.sqrt(variances[0]))\n",
    "data['SPX Returns Normalized'] = (data['SPX Returns'] - means[1])/(np.sqrt(variances[1]))\n",
    "\n",
    "#Apply the normalized data on a CDF to get probablities\n",
    "data['MXEUC RN CDF'] = st.norm.cdf(data['MXEUC Returns Normalized'].values)\n",
    "data['SPX RN CDF'] = st.norm.cdf(data['SPX Returns Normalized'].values)"
   ]
  },
  {
   "cell_type": "code",
   "execution_count": 9,
   "metadata": {},
   "outputs": [],
   "source": [
    "#Create an array that contains only the return data\n",
    "gumbel_data = np.array([data['MXEUC RN CDF'], data['SPX RN CDF']]).T"
   ]
  },
  {
   "cell_type": "code",
   "execution_count": 10,
   "metadata": {
    "scrolled": true
   },
   "outputs": [
    {
     "data": {
      "text/plain": [
       "1.3831731143911365"
      ]
     },
     "execution_count": 10,
     "metadata": {},
     "output_type": "execute_result"
    }
   ],
   "source": [
    "#Fit a bivariate gumbel copula\n",
    "#The copulas library from Data to AI Lab at MIT is used\n",
    "#https://pypi.org/project/copulas/\n",
    "\n",
    "gumbel = Bivariate(copula_type = 'Gumbel')\n",
    "gumbel.fit(gumbel_data)\n",
    "gumbel.compute_theta()"
   ]
  },
  {
   "cell_type": "markdown",
   "metadata": {},
   "source": [
    "<b>Model 4</b><br>\n",
    "<br>\n",
    "Ri = μi + σi εi, where εi is standard t-distributed with νi degrees of freedom. The parameters μi and σi, i = 1, 2, are the same as for model M2. The vector (ε1,ε2)′ possesses a Gaussian copula with correlation parameter ρ."
   ]
  },
  {
   "cell_type": "code",
   "execution_count": 11,
   "metadata": {},
   "outputs": [],
   "source": [
    "#[...]"
   ]
  },
  {
   "cell_type": "markdown",
   "metadata": {},
   "source": [
    "### Question ii)\n",
    "<br>\n",
    "Using model M1 for R, simulate the portfolio distribution (10,000 simulations of the portfolio return) and estimate 1-day portfolio’s value-at-risk and expected shortfall at 90%, 95% and 99% confidence levels."
   ]
  },
  {
   "cell_type": "code",
   "execution_count": 12,
   "metadata": {},
   "outputs": [],
   "source": [
    "#Define Expetected Shortfall\n",
    "def exp_shortfall(alpha, data):\n",
    "    \n",
    "    mu = np.mean(data)\n",
    "    sigma = np.std(data)\n",
    "    \n",
    "    return (1 - alpha)** -1 * st.norm.pdf(st.norm.ppf(alpha))*sigma - mu\n",
    "\n",
    "#Define Value at Risk\n",
    "def var(alpha, data):\n",
    "    return - (np.mean(data) - st.norm.ppf(alpha) * np.std(data))"
   ]
  },
  {
   "cell_type": "code",
   "execution_count": 13,
   "metadata": {},
   "outputs": [],
   "source": [
    "rand_int = np.random.randint(0,500,10000)\n",
    "random_return_series = np.array([empricial_cdf[0][rand_int], empricial_cdf[1][rand_int]])"
   ]
  },
  {
   "cell_type": "code",
   "execution_count": 14,
   "metadata": {},
   "outputs": [
    {
     "data": {
      "text/html": [
       "<div>\n",
       "<style scoped>\n",
       "    .dataframe tbody tr th:only-of-type {\n",
       "        vertical-align: middle;\n",
       "    }\n",
       "\n",
       "    .dataframe tbody tr th {\n",
       "        vertical-align: top;\n",
       "    }\n",
       "\n",
       "    .dataframe thead th {\n",
       "        text-align: right;\n",
       "    }\n",
       "</style>\n",
       "<table border=\"1\" class=\"dataframe\">\n",
       "  <thead>\n",
       "    <tr style=\"text-align: right;\">\n",
       "      <th></th>\n",
       "      <th>MXEUC</th>\n",
       "      <th>SPX</th>\n",
       "    </tr>\n",
       "    <tr>\n",
       "      <th>Exp. SF</th>\n",
       "      <th></th>\n",
       "      <th></th>\n",
       "    </tr>\n",
       "  </thead>\n",
       "  <tbody>\n",
       "    <tr>\n",
       "      <th>90%</th>\n",
       "      <td>0.000563</td>\n",
       "      <td>0.000808</td>\n",
       "    </tr>\n",
       "    <tr>\n",
       "      <th>95%</th>\n",
       "      <td>-0.000045</td>\n",
       "      <td>0.000271</td>\n",
       "    </tr>\n",
       "    <tr>\n",
       "      <th>99%</th>\n",
       "      <td>-0.000618</td>\n",
       "      <td>-0.000236</td>\n",
       "    </tr>\n",
       "  </tbody>\n",
       "</table>\n",
       "</div>"
      ],
      "text/plain": [
       "            MXEUC       SPX\n",
       "Exp. SF                    \n",
       "90%      0.000563  0.000808\n",
       "95%     -0.000045  0.000271\n",
       "99%     -0.000618 -0.000236"
      ]
     },
     "execution_count": 14,
     "metadata": {},
     "output_type": "execute_result"
    }
   ],
   "source": [
    "output_EF = dict.fromkeys(['MXEUC','SPX'])\n",
    "\n",
    "#Calculate the Expected Short Fall for MXEUC\n",
    "output_EF['MXEUC'] = [exp_shortfall(0.1, random_return_series[0]), \n",
    "                   exp_shortfall(0.05, random_return_series[0]),\n",
    "                   exp_shortfall(0.01, random_return_series[0])]\n",
    "\n",
    "#Calculate the Expected Short Fall for SPX\n",
    "output_EF['SPX'] =  [exp_shortfall(0.1, random_return_series[1]), \n",
    "                   exp_shortfall(0.05, random_return_series[1]),\n",
    "                   exp_shortfall(0.01, random_return_series[1])]\n",
    "\n",
    "output_table_EF = pd.DataFrame(output_EF, index = ['90%', '95%', '99%'])\n",
    "output_table_EF.index.name = 'Exp. SF'\n",
    "output_table_EF       "
   ]
  },
  {
   "cell_type": "code",
   "execution_count": 15,
   "metadata": {},
   "outputs": [
    {
     "data": {
      "text/html": [
       "<div>\n",
       "<style scoped>\n",
       "    .dataframe tbody tr th:only-of-type {\n",
       "        vertical-align: middle;\n",
       "    }\n",
       "\n",
       "    .dataframe tbody tr th {\n",
       "        vertical-align: top;\n",
       "    }\n",
       "\n",
       "    .dataframe thead th {\n",
       "        text-align: right;\n",
       "    }\n",
       "</style>\n",
       "<table border=\"1\" class=\"dataframe\">\n",
       "  <thead>\n",
       "    <tr style=\"text-align: right;\">\n",
       "      <th></th>\n",
       "      <th>MXEUC</th>\n",
       "      <th>SPX</th>\n",
       "    </tr>\n",
       "    <tr>\n",
       "      <th>VAR</th>\n",
       "      <th></th>\n",
       "      <th></th>\n",
       "    </tr>\n",
       "  </thead>\n",
       "  <tbody>\n",
       "    <tr>\n",
       "      <th>90%</th>\n",
       "      <td>-0.009807</td>\n",
       "      <td>-0.008362</td>\n",
       "    </tr>\n",
       "    <tr>\n",
       "      <th>95%</th>\n",
       "      <td>-0.012359</td>\n",
       "      <td>-0.010619</td>\n",
       "    </tr>\n",
       "    <tr>\n",
       "      <th>99%</th>\n",
       "      <td>-0.017145</td>\n",
       "      <td>-0.014851</td>\n",
       "    </tr>\n",
       "  </tbody>\n",
       "</table>\n",
       "</div>"
      ],
      "text/plain": [
       "        MXEUC       SPX\n",
       "VAR                    \n",
       "90% -0.009807 -0.008362\n",
       "95% -0.012359 -0.010619\n",
       "99% -0.017145 -0.014851"
      ]
     },
     "execution_count": 15,
     "metadata": {},
     "output_type": "execute_result"
    }
   ],
   "source": [
    "output_VAR = dict.fromkeys(['MXEUC','SPX'])\n",
    "\n",
    "#Calculate the Value at Risk Fall for MXEUC\n",
    "output_VAR['MXEUC'] = [var(0.1, random_return_series[0]), \n",
    "                   var(0.05, random_return_series[0]),\n",
    "                   var(0.01, random_return_series[0])]\n",
    "\n",
    "#Calculate the Value at Risk Fall for SPX\n",
    "output_VAR['SPX'] =  [var(0.1, random_return_series[1]), \n",
    "                   var(0.05, random_return_series[1]),\n",
    "                   var(0.01, random_return_series[1])]\n",
    "\n",
    "output_table_VAR = pd.DataFrame(output_VAR, index = ['90%', '95%', '99%'])\n",
    "output_table_VAR.index.name = 'VAR'\n",
    "output_table_VAR       "
   ]
  },
  {
   "cell_type": "markdown",
   "metadata": {},
   "source": [
    "### Question iii)\n",
    "<br>\n",
    "Repeat the same exercise as in point (ii), but using models M2 and M4, respectively."
   ]
  },
  {
   "cell_type": "code",
   "execution_count": null,
   "metadata": {},
   "outputs": [],
   "source": []
  },
  {
   "cell_type": "code",
   "execution_count": null,
   "metadata": {},
   "outputs": [],
   "source": []
  }
 ],
 "metadata": {
  "kernelspec": {
   "display_name": "Python 3",
   "language": "python",
   "name": "python3"
  },
  "language_info": {
   "codemirror_mode": {
    "name": "ipython",
    "version": 3
   },
   "file_extension": ".py",
   "mimetype": "text/x-python",
   "name": "python",
   "nbconvert_exporter": "python",
   "pygments_lexer": "ipython3",
   "version": "3.6.5"
  }
 },
 "nbformat": 4,
 "nbformat_minor": 2
}
