{
 "cells": [
  {
   "cell_type": "markdown",
   "metadata": {},
   "source": [
    "## Quantitative Risk Management Assignement\n",
    "Giuliano Cunti <br>\n",
    "Lukas Schreiner"
   ]
  },
  {
   "cell_type": "code",
   "execution_count": 1,
   "metadata": {},
   "outputs": [],
   "source": [
    "#Import Libraries\n",
    "import numpy as np\n",
    "import pandas as pd\n",
    "from copulas.bivariate.base import Bivariate"
   ]
  },
  {
   "cell_type": "code",
   "execution_count": 2,
   "metadata": {},
   "outputs": [
    {
     "data": {
      "text/html": [
       "<div>\n",
       "<style scoped>\n",
       "    .dataframe tbody tr th:only-of-type {\n",
       "        vertical-align: middle;\n",
       "    }\n",
       "\n",
       "    .dataframe tbody tr th {\n",
       "        vertical-align: top;\n",
       "    }\n",
       "\n",
       "    .dataframe thead th {\n",
       "        text-align: right;\n",
       "    }\n",
       "</style>\n",
       "<table border=\"1\" class=\"dataframe\">\n",
       "  <thead>\n",
       "    <tr style=\"text-align: right;\">\n",
       "      <th></th>\n",
       "      <th>MXEUC Index</th>\n",
       "      <th>SPX Index</th>\n",
       "      <th>MXEUC Returns</th>\n",
       "      <th>SPX Index Returns</th>\n",
       "    </tr>\n",
       "    <tr>\n",
       "      <th>Date</th>\n",
       "      <th></th>\n",
       "      <th></th>\n",
       "      <th></th>\n",
       "      <th></th>\n",
       "    </tr>\n",
       "  </thead>\n",
       "  <tbody>\n",
       "    <tr>\n",
       "      <th>2005-01-03</th>\n",
       "      <td>89.6602</td>\n",
       "      <td>1202.0891</td>\n",
       "      <td>0.005159</td>\n",
       "      <td>-0.008109</td>\n",
       "    </tr>\n",
       "    <tr>\n",
       "      <th>2005-01-04</th>\n",
       "      <td>90.0505</td>\n",
       "      <td>1188.1801</td>\n",
       "      <td>0.004353</td>\n",
       "      <td>-0.011571</td>\n",
       "    </tr>\n",
       "    <tr>\n",
       "      <th>2005-01-05</th>\n",
       "      <td>89.4664</td>\n",
       "      <td>1183.9815</td>\n",
       "      <td>-0.006486</td>\n",
       "      <td>-0.003534</td>\n",
       "    </tr>\n",
       "    <tr>\n",
       "      <th>2005-01-06</th>\n",
       "      <td>89.9265</td>\n",
       "      <td>1188.3980</td>\n",
       "      <td>0.005143</td>\n",
       "      <td>0.003730</td>\n",
       "    </tr>\n",
       "    <tr>\n",
       "      <th>2005-01-07</th>\n",
       "      <td>90.6058</td>\n",
       "      <td>1186.7126</td>\n",
       "      <td>0.007554</td>\n",
       "      <td>-0.001418</td>\n",
       "    </tr>\n",
       "  </tbody>\n",
       "</table>\n",
       "</div>"
      ],
      "text/plain": [
       "            MXEUC Index  SPX Index  MXEUC Returns  SPX Index Returns\n",
       "Date                                                                \n",
       "2005-01-03      89.6602  1202.0891       0.005159          -0.008109\n",
       "2005-01-04      90.0505  1188.1801       0.004353          -0.011571\n",
       "2005-01-05      89.4664  1183.9815      -0.006486          -0.003534\n",
       "2005-01-06      89.9265  1188.3980       0.005143           0.003730\n",
       "2005-01-07      90.6058  1186.7126       0.007554          -0.001418"
      ]
     },
     "execution_count": 2,
     "metadata": {},
     "output_type": "execute_result"
    }
   ],
   "source": [
    "#Import Data MXEUC Index\n",
    "data1 = pd.read_excel('qrm18HSG_assignmentdata.xlsx', usecols = \"A,B\" ,names = [ 'Date', 'MXEUC Index']).set_index('Date')\n",
    "data1 = data1.iloc[1:]\n",
    "#Import Data SPX Index\n",
    "data2 = pd.read_excel('qrm18HSG_assignmentdata.xlsx', usecols = \"C,D\" ,names = [ 'Date', 'SPX Index']).set_index('Date')\n",
    "data2 = data2.iloc[1:]\n",
    "\n",
    "#Merge Data\n",
    "data = pd.concat([data1, data2], axis = 1, join_axes = [data1.index])\n",
    "\n",
    "#Convert to numerical values interpolate missing values\n",
    "data['SPX Index'] = pd.to_numeric(data['SPX Index'])\n",
    "data['MXEUC Index'] = pd.to_numeric(data['MXEUC Index'])\n",
    "data['SPX Index'] = data['SPX Index'].interpolate()\n",
    "\n",
    "#Calculate Returns of the Indices\n",
    "data['MXEUC Returns'] = data['MXEUC Index']/data['MXEUC Index'].shift(1) - 1\n",
    "data['SPX Index Returns'] = data['SPX Index']/data['SPX Index'].shift(1) - 1\n",
    "\n",
    "#Only take the newest 500 Oberservations\n",
    "data = data.iloc[1:501]\n",
    "\n",
    "data.head()"
   ]
  },
  {
   "cell_type": "code",
   "execution_count": 3,
   "metadata": {},
   "outputs": [
    {
     "name": "stdout",
     "output_type": "stream",
     "text": [
      "[0.0007688865556201618, 0.00037513875090646164]\n",
      "[5.061087267757628e-05, 3.915794768807607e-05]\n"
     ]
    }
   ],
   "source": [
    "#Calculate Sample Means and Variances\n",
    "means = [np.mean(data['MXEUC Returns']), np.mean(data['SPX Index Returns'])]\n",
    "print(means)\n",
    "variances = [np.var(data['MXEUC Returns']), np.var(data['SPX Index Returns'])]\n",
    "print(variances)"
   ]
  },
  {
   "cell_type": "code",
   "execution_count": 4,
   "metadata": {
    "scrolled": false
   },
   "outputs": [
    {
     "name": "stdout",
     "output_type": "stream",
     "text": [
      "[[5.06108727e-05 1.92605961e-05]\n",
      " [1.92605961e-05 3.91579477e-05]]\n"
     ]
    }
   ],
   "source": [
    "#Calculate Covariance Matrix\n",
    "cov_mat = np.cov(data['MXEUC Returns'], data['SPX Index Returns'], ddof = 0)\n",
    "print(cov_mat)"
   ]
  },
  {
   "cell_type": "code",
   "execution_count": 5,
   "metadata": {},
   "outputs": [],
   "source": [
    "#Create an array that contains only the return data\n",
    "return_data = np.array([data['MXEUC Returns'], data['SPX Index Returns']]).T"
   ]
  },
  {
   "cell_type": "code",
   "execution_count": 6,
   "metadata": {
    "scrolled": true
   },
   "outputs": [
    {
     "data": {
      "text/plain": [
       "1.3831731143911365"
      ]
     },
     "execution_count": 6,
     "metadata": {},
     "output_type": "execute_result"
    }
   ],
   "source": [
    "#Fit a bivariate gumbel copula\n",
    "#The copulas lirary from Data to AI Lab at MIT is used\n",
    "#https://pypi.org/project/copulas/\n",
    "\n",
    "gumbel = Bivariate(copula_type='Gumbel')\n",
    "gumbel.fit(return_data)\n",
    "gumbel.compute_theta()"
   ]
  }
 ],
 "metadata": {
  "kernelspec": {
   "display_name": "Python 3",
   "language": "python",
   "name": "python3"
  },
  "language_info": {
   "codemirror_mode": {
    "name": "ipython",
    "version": 3
   },
   "file_extension": ".py",
   "mimetype": "text/x-python",
   "name": "python",
   "nbconvert_exporter": "python",
   "pygments_lexer": "ipython3",
   "version": "3.6.5"
  }
 },
 "nbformat": 4,
 "nbformat_minor": 2
}
