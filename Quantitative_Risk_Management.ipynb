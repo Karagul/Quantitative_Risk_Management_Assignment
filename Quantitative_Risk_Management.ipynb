{
 "cells": [
  {
   "cell_type": "markdown",
   "metadata": {},
   "source": [
    "## Quantitative Risk Management Assignement\n",
    "Giuliano Cunti <br>\n",
    "Lukas Schreiner\n",
    "<br>\n",
    "Due: 2.Dec.2018"
   ]
  },
  {
   "cell_type": "code",
   "execution_count": 1,
   "metadata": {},
   "outputs": [],
   "source": [
    "#Import Libraries\n",
    "import numpy as np\n",
    "import pandas as pd\n",
    "\n",
    "from copulas.bivariate.base import Bivariate\n",
    "import scipy.stats as st\n",
    "\n",
    "import matplotlib.pyplot as plt\n",
    "\n",
    "#Set random number seed in order to generate coherent results\n",
    "np.random.seed(1)"
   ]
  },
  {
   "cell_type": "code",
   "execution_count": 2,
   "metadata": {},
   "outputs": [],
   "source": [
    "#Disable Warnings \n",
    "from warnings import filterwarnings\n",
    "filterwarnings('ignore')"
   ]
  },
  {
   "cell_type": "code",
   "execution_count": 3,
   "metadata": {},
   "outputs": [
    {
     "data": {
      "text/html": [
       "<div>\n",
       "<style scoped>\n",
       "    .dataframe tbody tr th:only-of-type {\n",
       "        vertical-align: middle;\n",
       "    }\n",
       "\n",
       "    .dataframe tbody tr th {\n",
       "        vertical-align: top;\n",
       "    }\n",
       "\n",
       "    .dataframe thead th {\n",
       "        text-align: right;\n",
       "    }\n",
       "</style>\n",
       "<table border=\"1\" class=\"dataframe\">\n",
       "  <thead>\n",
       "    <tr style=\"text-align: right;\">\n",
       "      <th></th>\n",
       "      <th>MXEUC Index</th>\n",
       "      <th>SPX Index</th>\n",
       "      <th>MXEUC Returns</th>\n",
       "      <th>SPX Returns</th>\n",
       "      <th>LT Returns</th>\n",
       "    </tr>\n",
       "    <tr>\n",
       "      <th>Date</th>\n",
       "      <th></th>\n",
       "      <th></th>\n",
       "      <th></th>\n",
       "      <th></th>\n",
       "      <th></th>\n",
       "    </tr>\n",
       "  </thead>\n",
       "  <tbody>\n",
       "    <tr>\n",
       "      <th>2005-01-03</th>\n",
       "      <td>89.6602</td>\n",
       "      <td>1202.0891</td>\n",
       "      <td>0.005159</td>\n",
       "      <td>-0.008109</td>\n",
       "      <td>-0.004128</td>\n",
       "    </tr>\n",
       "    <tr>\n",
       "      <th>2005-01-04</th>\n",
       "      <td>90.0505</td>\n",
       "      <td>1188.1801</td>\n",
       "      <td>0.004353</td>\n",
       "      <td>-0.011571</td>\n",
       "      <td>-0.006794</td>\n",
       "    </tr>\n",
       "    <tr>\n",
       "      <th>2005-01-05</th>\n",
       "      <td>89.4664</td>\n",
       "      <td>1183.9815</td>\n",
       "      <td>-0.006486</td>\n",
       "      <td>-0.003534</td>\n",
       "      <td>-0.004419</td>\n",
       "    </tr>\n",
       "    <tr>\n",
       "      <th>2005-01-06</th>\n",
       "      <td>89.9265</td>\n",
       "      <td>1188.3980</td>\n",
       "      <td>0.005143</td>\n",
       "      <td>0.003730</td>\n",
       "      <td>0.004154</td>\n",
       "    </tr>\n",
       "    <tr>\n",
       "      <th>2005-01-07</th>\n",
       "      <td>90.6058</td>\n",
       "      <td>1186.7126</td>\n",
       "      <td>0.007554</td>\n",
       "      <td>-0.001418</td>\n",
       "      <td>0.001273</td>\n",
       "    </tr>\n",
       "  </tbody>\n",
       "</table>\n",
       "</div>"
      ],
      "text/plain": [
       "            MXEUC Index  SPX Index  MXEUC Returns  SPX Returns  LT Returns\n",
       "Date                                                                      \n",
       "2005-01-03      89.6602  1202.0891       0.005159    -0.008109   -0.004128\n",
       "2005-01-04      90.0505  1188.1801       0.004353    -0.011571   -0.006794\n",
       "2005-01-05      89.4664  1183.9815      -0.006486    -0.003534   -0.004419\n",
       "2005-01-06      89.9265  1188.3980       0.005143     0.003730    0.004154\n",
       "2005-01-07      90.6058  1186.7126       0.007554    -0.001418    0.001273"
      ]
     },
     "execution_count": 3,
     "metadata": {},
     "output_type": "execute_result"
    }
   ],
   "source": [
    "#Import Data MXEUC Index\n",
    "data1 = pd.read_excel('qrm18HSG_assignmentdata.xlsx', usecols = \"A,B\" ,names = [ 'Date', 'MXEUC Index']).set_index('Date')\n",
    "data1 = data1.iloc[1:]\n",
    "#Import Data SPX Index\n",
    "data2 = pd.read_excel('qrm18HSG_assignmentdata.xlsx', usecols = \"C,D\" ,names = [ 'Date', 'SPX Index']).set_index('Date')\n",
    "data2 = data2.iloc[1:]\n",
    "\n",
    "#Merge Data\n",
    "data = pd.concat([data1, data2], axis = 1, join_axes = [data1.index])\n",
    "\n",
    "#Convert to numerical values interpolate missing values\n",
    "data['SPX Index'] = pd.to_numeric(data['SPX Index'])\n",
    "data['MXEUC Index'] = pd.to_numeric(data['MXEUC Index'])\n",
    "data['SPX Index'] = data['SPX Index'].interpolate()\n",
    "\n",
    "#Calculate Returns of the Indices\n",
    "data['MXEUC Returns'] = data['MXEUC Index']/data['MXEUC Index'].shift(1) - 1\n",
    "data['SPX Returns'] = data['SPX Index']/data['SPX Index'].shift(1) - 1\n",
    "\n",
    "data['LT Returns'] = (0.3 * data['MXEUC Returns'] + 0.7 * data['SPX Returns'])\n",
    "\n",
    "#Only take the latest 500 Oberservations (Questions i,ii, iii)\n",
    "data_500 = data.iloc[1:501]\n",
    "\n",
    "data_500.head()"
   ]
  },
  {
   "cell_type": "markdown",
   "metadata": {},
   "source": [
    "### Question i)"
   ]
  },
  {
   "cell_type": "markdown",
   "metadata": {},
   "source": [
    "<b>Model 1</b> <br>\n",
    "<br>\n",
    "R is distributed according to the empirical distribution."
   ]
  },
  {
   "cell_type": "code",
   "execution_count": 4,
   "metadata": {},
   "outputs": [],
   "source": [
    "#Calculate the emprical CDF\n",
    "empricial_cdf = np.array([data_500.sort_values('MXEUC Returns')['MXEUC Returns'].values, \n",
    "                          data_500.sort_values('SPX Returns')['SPX Returns'].values])"
   ]
  },
  {
   "cell_type": "code",
   "execution_count": 5,
   "metadata": {},
   "outputs": [
    {
     "data": {
      "image/png": "[encoded data removed]",
      "text/plain": [
       "<Figure size 1440x432 with 2 Axes>"
      ]
     },
     "metadata": {},
     "output_type": "display_data"
    }
   ],
   "source": [
    "#Plot CDF and histogramm of the MXEUC\n",
    "figure_MXEUC = plt.figure(figsize = (20,6))\n",
    "\n",
    "chart_1  = figure_MXEUC.add_subplot(121)\n",
    "chart_1.plot(empricial_cdf[0])\n",
    "chart_1.set_title('CDF MXEUC')\n",
    "\n",
    "chart_2  = figure_MXEUC.add_subplot(122)\n",
    "chart_2.hist(empricial_cdf[0], 50 ,density = True, facecolor = 'grey')\n",
    "chart_2.set_title('Histogram MXEUC')\n",
    "\n",
    "plt.show()"
   ]
  },
  {
   "cell_type": "code",
   "execution_count": 6,
   "metadata": {},
   "outputs": [
    {
     "data": {
      "image/png": "[encoded data removed]",
      "text/plain": [
       "<Figure size 1440x432 with 2 Axes>"
      ]
     },
     "metadata": {},
     "output_type": "display_data"
    }
   ],
   "source": [
    "#Plot CDF and histogramm of the SPX\n",
    "figure_SPX = plt.figure(figsize = (20,6))\n",
    "\n",
    "chart_1  = figure_SPX.add_subplot(121)\n",
    "chart_1.plot(empricial_cdf[1])\n",
    "chart_1.set_title('SPX Index')\n",
    "\n",
    "chart_2  = figure_SPX.add_subplot(122)\n",
    "chart_2.hist(empricial_cdf[1], 50 ,density = True, facecolor = 'grey')\n",
    "chart_2.set_title('Histogram SPX')\n",
    "\n",
    "plt.show()"
   ]
  },
  {
   "cell_type": "markdown",
   "metadata": {},
   "source": [
    "<b>Model 2</b><br>\n",
    "<br>\n",
    "R is bivariate Gaussian distributed with mean vector μ and covariance matrix Σ"
   ]
  },
  {
   "cell_type": "code",
   "execution_count": 7,
   "metadata": {},
   "outputs": [],
   "source": [
    "#Calculate Sample Means and Covariance Matrix\n",
    "def sample_moments_indices(data):\n",
    "\n",
    "    means = [np.mean(data['MXEUC Returns']), \n",
    "             np.mean(data['SPX Returns'])]\n",
    "    \n",
    "    cov_mat = np.cov(data['MXEUC Returns'], \n",
    "                     data['SPX Returns'], ddof = 0)\n",
    "    \n",
    "    return means, cov_mat"
   ]
  },
  {
   "cell_type": "code",
   "execution_count": 8,
   "metadata": {},
   "outputs": [
    {
     "name": "stdout",
     "output_type": "stream",
     "text": [
      "[0.0007688865556201618, 0.00037513875090646164]\n",
      "\n",
      "[[5.06108727e-05 1.92605961e-05]\n",
      " [1.92605961e-05 3.91579477e-05]]\n"
     ]
    }
   ],
   "source": [
    "means, cov_mat =  sample_moments_indices(data_500)\n",
    "print(means)\n",
    "print()\n",
    "print(cov_mat)"
   ]
  },
  {
   "cell_type": "markdown",
   "metadata": {},
   "source": [
    "<b>Model 3</b> <br>\n",
    "<br>\n",
    "Ri is Gaussian distributed with mean μ and variance σ, for i = 1, 2. These parameters\n",
    "are the same as for model M2.\n",
    "\n",
    "Moreover, the normalized vector of returns possesses a Gumbel-copula with parameter θ ≥ 1"
   ]
  },
  {
   "cell_type": "code",
   "execution_count": 9,
   "metadata": {},
   "outputs": [],
   "source": [
    "#Normalize the data\n",
    "data_500['MXEUC Returns Normalized'] = (data_500['MXEUC Returns'] - means[0])/(np.sqrt(cov_mat[0][0]))\n",
    "data_500['SPX Returns Normalized']   = (data_500['SPX Returns'] - means[1])/(np.sqrt(cov_mat[1][1]))\n",
    "\n",
    "#Apply the normalized data on a CDF to get probablities\n",
    "data_500['MXEUC RN CDF'] = st.norm.cdf(data_500['MXEUC Returns Normalized'].values)\n",
    "data_500['SPX RN CDF']   = st.norm.cdf(data_500['SPX Returns Normalized'].values)"
   ]
  },
  {
   "cell_type": "code",
   "execution_count": 10,
   "metadata": {},
   "outputs": [],
   "source": [
    "#Create an array that contains only the return data\n",
    "gumbel_data = np.array([data_500['MXEUC RN CDF'], data_500['SPX RN CDF']]).T"
   ]
  },
  {
   "cell_type": "code",
   "execution_count": 11,
   "metadata": {
    "scrolled": true
   },
   "outputs": [
    {
     "data": {
      "text/plain": [
       "1.3831731143911365"
      ]
     },
     "execution_count": 11,
     "metadata": {},
     "output_type": "execute_result"
    }
   ],
   "source": [
    "#Fit a bivariate gumbel copula\n",
    "#The copulas library from Data to AI Lab at MIT is used\n",
    "#https://pypi.org/project/copulas/\n",
    "\n",
    "gumbel = Bivariate(copula_type = 'Gumbel')\n",
    "gumbel.fit(gumbel_data)\n",
    "gumbel.compute_theta()"
   ]
  },
  {
   "cell_type": "markdown",
   "metadata": {},
   "source": [
    "<b>Model 4</b><br>\n",
    "<br>\n",
    "Ri = μi + σi εi, where εi is standard t-distributed with νi degrees of freedom. The parameters μi and σi, i = 1, 2, are the same as for model M2. The vector (ε1,ε2)′ possesses a Gaussian copula with correlation parameter ρ."
   ]
  },
  {
   "cell_type": "code",
   "execution_count": 12,
   "metadata": {},
   "outputs": [],
   "source": [
    "#[...]"
   ]
  },
  {
   "cell_type": "markdown",
   "metadata": {},
   "source": [
    "### Question ii)\n",
    "<br>\n",
    "Using model M1 for R, simulate the portfolio distribution (10,000 simulations of the portfolio return) and estimate 1-day portfolio’s value-at-risk and expected shortfall at 90%, 95% and 99% confidence levels."
   ]
  },
  {
   "cell_type": "code",
   "execution_count": 13,
   "metadata": {},
   "outputs": [],
   "source": [
    "#Define Expetected Shortfall\n",
    "def exp_shortfall(alpha, data):\n",
    "    \n",
    "    mu = np.mean(data)\n",
    "    sigma = np.std(data)\n",
    "    \n",
    "    return (1 - alpha)** -1 * st.norm.pdf(st.norm.ppf(alpha))*sigma - mu\n",
    "\n",
    "#Define Value at Risk\n",
    "def var(alpha, data):\n",
    "    return - (np.mean(data) - st.norm.ppf(alpha) * np.std(data))"
   ]
  },
  {
   "cell_type": "code",
   "execution_count": 14,
   "metadata": {},
   "outputs": [],
   "source": [
    "def calculate_risk_measures(data, name):\n",
    "    \n",
    "    #define dictionary to store the values in\n",
    "    output = dict.fromkeys(['Exp. SF','VAR'])\n",
    "\n",
    "    #Calculate the Expected Short Fall\n",
    "    output['Exp. SF'] = [exp_shortfall(0.1, data), \n",
    "                         exp_shortfall(0.05, data),\n",
    "                         exp_shortfall(0.01, data)]\n",
    "\n",
    "    #Calculate the Expected Short Fall\n",
    "    output['VAR'] =  [var(0.1, data), \n",
    "                      var(0.05, data),\n",
    "                      var(0.01, data)]\n",
    "\n",
    "    output_table = pd.DataFrame(output, index = ['90%', '95%', '99%'])\n",
    "    output_table.index.name = name\n",
    "    \n",
    "    return output_table"
   ]
  },
  {
   "cell_type": "markdown",
   "metadata": {},
   "source": [
    "<br>\n",
    "<br>\n",
    "<br>\n",
    "Model 1"
   ]
  },
  {
   "cell_type": "code",
   "execution_count": 15,
   "metadata": {},
   "outputs": [],
   "source": [
    "#Generate 10'000 random numbers bewteen 0 and 500\n",
    "rand_int = np.random.randint(0,500,10000)\n",
    "#Draw 10'000 random returns from the sorted return verctor (empricial_cdf)\n",
    "random_return_series_m1 = np.array([empricial_cdf[0][rand_int], empricial_cdf[1][rand_int]])\n",
    "#Calculate Portfolio Return\n",
    "port_ret_m1 = (0.3 * random_return_series_m1[0] + 0.7 * random_return_series_m1[0])"
   ]
  },
  {
   "cell_type": "code",
   "execution_count": 16,
   "metadata": {},
   "outputs": [
    {
     "data": {
      "text/html": [
       "<div>\n",
       "<style scoped>\n",
       "    .dataframe tbody tr th:only-of-type {\n",
       "        vertical-align: middle;\n",
       "    }\n",
       "\n",
       "    .dataframe tbody tr th {\n",
       "        vertical-align: top;\n",
       "    }\n",
       "\n",
       "    .dataframe thead th {\n",
       "        text-align: right;\n",
       "    }\n",
       "</style>\n",
       "<table border=\"1\" class=\"dataframe\">\n",
       "  <thead>\n",
       "    <tr style=\"text-align: right;\">\n",
       "      <th></th>\n",
       "      <th>Exp. SF</th>\n",
       "      <th>VAR</th>\n",
       "    </tr>\n",
       "    <tr>\n",
       "      <th>Model 1</th>\n",
       "      <th></th>\n",
       "      <th></th>\n",
       "    </tr>\n",
       "  </thead>\n",
       "  <tbody>\n",
       "    <tr>\n",
       "      <th>90%</th>\n",
       "      <td>0.000563</td>\n",
       "      <td>-0.009807</td>\n",
       "    </tr>\n",
       "    <tr>\n",
       "      <th>95%</th>\n",
       "      <td>-0.000045</td>\n",
       "      <td>-0.012359</td>\n",
       "    </tr>\n",
       "    <tr>\n",
       "      <th>99%</th>\n",
       "      <td>-0.000618</td>\n",
       "      <td>-0.017145</td>\n",
       "    </tr>\n",
       "  </tbody>\n",
       "</table>\n",
       "</div>"
      ],
      "text/plain": [
       "          Exp. SF       VAR\n",
       "Model 1                    \n",
       "90%      0.000563 -0.009807\n",
       "95%     -0.000045 -0.012359\n",
       "99%     -0.000618 -0.017145"
      ]
     },
     "execution_count": 16,
     "metadata": {},
     "output_type": "execute_result"
    }
   ],
   "source": [
    "#Calculate Risk Measures for model 1\n",
    "calculate_risk_measures(port_ret_m1, 'Model 1')"
   ]
  },
  {
   "cell_type": "markdown",
   "metadata": {},
   "source": [
    "### Question iii)\n",
    "<br>\n",
    "Repeat the same exercise as in point (ii), but using models M2 and M4, respectively.\n",
    "<br>\n",
    "<br>\n",
    "Model 2"
   ]
  },
  {
   "cell_type": "code",
   "execution_count": 17,
   "metadata": {},
   "outputs": [],
   "source": [
    "#Model 2\n",
    "#Create a random return series\n",
    "random_return_series_m2 = np.random.multivariate_normal(means, cov_mat, size = (10000))\n",
    "#Calculate Portfolio Return\n",
    "port_ret_m2 = (0.3 * random_return_series_m2[0] + 0.7 * random_return_series_m2[0])"
   ]
  },
  {
   "cell_type": "code",
   "execution_count": 18,
   "metadata": {},
   "outputs": [
    {
     "data": {
      "text/html": [
       "<div>\n",
       "<style scoped>\n",
       "    .dataframe tbody tr th:only-of-type {\n",
       "        vertical-align: middle;\n",
       "    }\n",
       "\n",
       "    .dataframe tbody tr th {\n",
       "        vertical-align: top;\n",
       "    }\n",
       "\n",
       "    .dataframe thead th {\n",
       "        text-align: right;\n",
       "    }\n",
       "</style>\n",
       "<table border=\"1\" class=\"dataframe\">\n",
       "  <thead>\n",
       "    <tr style=\"text-align: right;\">\n",
       "      <th></th>\n",
       "      <th>Exp. SF</th>\n",
       "      <th>VAR</th>\n",
       "    </tr>\n",
       "    <tr>\n",
       "      <th>Model 2</th>\n",
       "      <th></th>\n",
       "      <th></th>\n",
       "    </tr>\n",
       "  </thead>\n",
       "  <tbody>\n",
       "    <tr>\n",
       "      <th>90%</th>\n",
       "      <td>0.003572</td>\n",
       "      <td>-0.000936</td>\n",
       "    </tr>\n",
       "    <tr>\n",
       "      <th>95%</th>\n",
       "      <td>0.003308</td>\n",
       "      <td>-0.002045</td>\n",
       "    </tr>\n",
       "    <tr>\n",
       "      <th>99%</th>\n",
       "      <td>0.003059</td>\n",
       "      <td>-0.004125</td>\n",
       "    </tr>\n",
       "  </tbody>\n",
       "</table>\n",
       "</div>"
      ],
      "text/plain": [
       "          Exp. SF       VAR\n",
       "Model 2                    \n",
       "90%      0.003572 -0.000936\n",
       "95%      0.003308 -0.002045\n",
       "99%      0.003059 -0.004125"
      ]
     },
     "execution_count": 18,
     "metadata": {},
     "output_type": "execute_result"
    }
   ],
   "source": [
    "#Calculate Risk Measures for model 2\n",
    "calculate_risk_measures(port_ret_m2, 'Model 2')"
   ]
  },
  {
   "cell_type": "markdown",
   "metadata": {},
   "source": [
    "Model 4"
   ]
  },
  {
   "cell_type": "code",
   "execution_count": 19,
   "metadata": {},
   "outputs": [],
   "source": [
    "#[...]"
   ]
  },
  {
   "cell_type": "markdown",
   "metadata": {},
   "source": [
    "### Question iii)"
   ]
  },
  {
   "cell_type": "code",
   "execution_count": 20,
   "metadata": {},
   "outputs": [],
   "source": [
    "def historic_EF(data):\n",
    "    #Data has to be a pandas series with 1000 historical returns \n",
    "    \n",
    "    #Define dictionary to store the values in\n",
    "    output_EF = dict.fromkeys(['100','200','500','1000'])\n",
    "\n",
    "    #Calculate the Expected Short Fall for the latest 100 observations\n",
    "    output_EF['100'] = [exp_shortfall(0.1,    data.iloc[0:100]), \n",
    "                        exp_shortfall(0.05,   data.iloc[0:100]),\n",
    "                        exp_shortfall(0.01,   data.iloc[0:100])]\n",
    "\n",
    "    #Calculate the Expected Short Fall for the latest 200 observations\n",
    "    output_EF['200'] =  [exp_shortfall(0.1,  data.iloc[0:200]), \n",
    "                         exp_shortfall(0.05, data.iloc[0:200]),\n",
    "                         exp_shortfall(0.01, data.iloc[0:200])]\n",
    "    \n",
    "    #Calculate the Expected Short Fall for the latest 500 observations\n",
    "    output_EF['500'] =  [exp_shortfall(0.1,  data.iloc[0:500]), \n",
    "                         exp_shortfall(0.05, data.iloc[0:500]),\n",
    "                         exp_shortfall(0.01, data.iloc[0:500])]\n",
    "    \n",
    "    #Calculate the Expected Short Fall for the latest 1000 observations\n",
    "    output_EF['1000'] =  [exp_shortfall(0.1,  data.iloc[0:1000]), \n",
    "                          exp_shortfall(0.05, data.iloc[0:1000]),\n",
    "                          exp_shortfall(0.01, data.iloc[0:1000])]\n",
    "\n",
    "    output_table_EF = pd.DataFrame(output_EF, index = ['90%', '95%', '99%'])\n",
    "    output_table_EF.index.name = 'EF Hist. R'\n",
    "    \n",
    "    return output_table_EF       \n",
    "\n",
    "def historic_VAR(data):\n",
    "    #Data has to be a pandas series with 1000 historical returns \n",
    "    \n",
    "    #Define dictionary to store the values in\n",
    "    output_VAR = dict.fromkeys(['100','200','500','1000'])\n",
    "\n",
    "    #Calculate the VAR for the latest 100 observations\n",
    "    output_VAR['100'] = [var(0.1,    data.iloc[0:100]), \n",
    "                        var(0.05,   data.iloc[0:100]),\n",
    "                        var(0.01,   data.iloc[0:100])]\n",
    "\n",
    "    #Calculate the VAR for the latest 200 observations\n",
    "    output_VAR['200'] =  [var(0.1,  data.iloc[0:200]), \n",
    "                         var(0.05, data.iloc[0:200]),\n",
    "                         var(0.01, data.iloc[0:200])]\n",
    "    \n",
    "    #Calculate the VAR for the latest 500 observations\n",
    "    output_VAR['500'] =  [var(0.1,  data.iloc[0:500]), \n",
    "                         var(0.05, data.iloc[0:500]),\n",
    "                         var(0.01, data.iloc[0:500])]\n",
    "    \n",
    "    #Calculate the VAR for the latest 1000 observations\n",
    "    output_VAR['1000'] =  [var(0.1,  data.iloc[0:1000]), \n",
    "                          var(0.05, data.iloc[0:1000]),\n",
    "                          var(0.01, data.iloc[0:1000])]\n",
    "\n",
    "    output_VAR = pd.DataFrame(output_VAR, index = ['90%', '95%', '99%'])\n",
    "    output_VAR.index.name = 'VAR Hist. R'\n",
    "    \n",
    "    return output_VAR       "
   ]
  },
  {
   "cell_type": "code",
   "execution_count": 21,
   "metadata": {},
   "outputs": [
    {
     "data": {
      "text/html": [
       "<div>\n",
       "<style scoped>\n",
       "    .dataframe tbody tr th:only-of-type {\n",
       "        vertical-align: middle;\n",
       "    }\n",
       "\n",
       "    .dataframe tbody tr th {\n",
       "        vertical-align: top;\n",
       "    }\n",
       "\n",
       "    .dataframe thead th {\n",
       "        text-align: right;\n",
       "    }\n",
       "</style>\n",
       "<table border=\"1\" class=\"dataframe\">\n",
       "  <thead>\n",
       "    <tr style=\"text-align: right;\">\n",
       "      <th></th>\n",
       "      <th>100</th>\n",
       "      <th>200</th>\n",
       "      <th>500</th>\n",
       "      <th>1000</th>\n",
       "    </tr>\n",
       "    <tr>\n",
       "      <th>EF Hist. R</th>\n",
       "      <th></th>\n",
       "      <th></th>\n",
       "      <th></th>\n",
       "      <th></th>\n",
       "    </tr>\n",
       "  </thead>\n",
       "  <tbody>\n",
       "    <tr>\n",
       "      <th>90%</th>\n",
       "      <td>0.000955</td>\n",
       "      <td>0.000743</td>\n",
       "      <td>0.000598</td>\n",
       "      <td>0.002256</td>\n",
       "    </tr>\n",
       "    <tr>\n",
       "      <th>95%</th>\n",
       "      <td>0.000467</td>\n",
       "      <td>0.000292</td>\n",
       "      <td>0.000110</td>\n",
       "      <td>0.001280</td>\n",
       "    </tr>\n",
       "    <tr>\n",
       "      <th>99%</th>\n",
       "      <td>0.000006</td>\n",
       "      <td>-0.000134</td>\n",
       "      <td>-0.000351</td>\n",
       "      <td>0.000358</td>\n",
       "    </tr>\n",
       "  </tbody>\n",
       "</table>\n",
       "</div>"
      ],
      "text/plain": [
       "                 100       200       500      1000\n",
       "EF Hist. R                                        \n",
       "90%         0.000955  0.000743  0.000598  0.002256\n",
       "95%         0.000467  0.000292  0.000110  0.001280\n",
       "99%         0.000006 -0.000134 -0.000351  0.000358"
      ]
     },
     "execution_count": 21,
     "metadata": {},
     "output_type": "execute_result"
    }
   ],
   "source": [
    "#Calculate historic expected shortfall for the MXEUC with diffrent number of observations\n",
    "historic_EF(data['LT Returns'])"
   ]
  },
  {
   "cell_type": "code",
   "execution_count": 22,
   "metadata": {},
   "outputs": [
    {
     "data": {
      "text/html": [
       "<div>\n",
       "<style scoped>\n",
       "    .dataframe tbody tr th:only-of-type {\n",
       "        vertical-align: middle;\n",
       "    }\n",
       "\n",
       "    .dataframe tbody tr th {\n",
       "        vertical-align: top;\n",
       "    }\n",
       "\n",
       "    .dataframe thead th {\n",
       "        text-align: right;\n",
       "    }\n",
       "</style>\n",
       "<table border=\"1\" class=\"dataframe\">\n",
       "  <thead>\n",
       "    <tr style=\"text-align: right;\">\n",
       "      <th></th>\n",
       "      <th>100</th>\n",
       "      <th>200</th>\n",
       "      <th>500</th>\n",
       "      <th>1000</th>\n",
       "    </tr>\n",
       "    <tr>\n",
       "      <th>VAR Hist. R</th>\n",
       "      <th></th>\n",
       "      <th></th>\n",
       "      <th></th>\n",
       "      <th></th>\n",
       "    </tr>\n",
       "  </thead>\n",
       "  <tbody>\n",
       "    <tr>\n",
       "      <th>90%</th>\n",
       "      <td>-0.007381</td>\n",
       "      <td>-0.006961</td>\n",
       "      <td>-0.007735</td>\n",
       "      <td>-0.014421</td>\n",
       "    </tr>\n",
       "    <tr>\n",
       "      <th>95%</th>\n",
       "      <td>-0.009433</td>\n",
       "      <td>-0.008857</td>\n",
       "      <td>-0.009786</td>\n",
       "      <td>-0.018524</td>\n",
       "    </tr>\n",
       "    <tr>\n",
       "      <th>99%</th>\n",
       "      <td>-0.013280</td>\n",
       "      <td>-0.012413</td>\n",
       "      <td>-0.013632</td>\n",
       "      <td>-0.026221</td>\n",
       "    </tr>\n",
       "  </tbody>\n",
       "</table>\n",
       "</div>"
      ],
      "text/plain": [
       "                  100       200       500      1000\n",
       "VAR Hist. R                                        \n",
       "90%         -0.007381 -0.006961 -0.007735 -0.014421\n",
       "95%         -0.009433 -0.008857 -0.009786 -0.018524\n",
       "99%         -0.013280 -0.012413 -0.013632 -0.026221"
      ]
     },
     "execution_count": 22,
     "metadata": {},
     "output_type": "execute_result"
    }
   ],
   "source": [
    "#Calculate historic expected shortfall for the SPX with diffrent number of observations\n",
    "historic_VAR(data['LT Returns'])"
   ]
  },
  {
   "cell_type": "markdown",
   "metadata": {},
   "source": [
    "### Question v)"
   ]
  },
  {
   "cell_type": "code",
   "execution_count": 23,
   "metadata": {
    "scrolled": true
   },
   "outputs": [],
   "source": [
    "#Initilaized List to store the values for var and the 1 day ahead portfolio return\n",
    "rw_var = []\n",
    "day_ahead_return = []\n",
    "moments = []\n",
    "\n",
    "for i in range(1,len(data.index) - 201):\n",
    "    #Get the rolling window \n",
    "    rw_data = data.iloc[i:i + 200]\n",
    "    \n",
    "    #Save the actual 1 day ahead (of the window) return in the list\n",
    "    day_ahead_return.append(data['LT Returns'].iloc[i + 200 + 1])\n",
    "    \n",
    "    #Calculate the moments for that window\n",
    "    rw_moments = sample_moments_indices(rw_data)\n",
    "\n",
    "    #Simulated index returns on the basis of the rolling window monents\n",
    "    rw_sim_returns = np.random.multivariate_normal(rw_moments[0], rw_moments[1], size = (10000))\n",
    "    \n",
    "    #Calculte the simululated portfolio return\n",
    "    rw_port_returns = (0.3 * rw_sim_returns[0] + 0.7 * rw_sim_returns[1])\n",
    "    \n",
    "    moments.append(rw_moments[0])\n",
    "\n",
    "    #Calculate Var and store it in the list\n",
    "    rw_var.append(var(0.01, rw_port_returns))"
   ]
  },
  {
   "cell_type": "code",
   "execution_count": 24,
   "metadata": {},
   "outputs": [
    {
     "data": {
      "image/png": "[encoded data removed]",
      "text/plain": [
       "<Figure size 432x288 with 1 Axes>"
      ]
     },
     "metadata": {},
     "output_type": "display_data"
    }
   ],
   "source": [
    "plt.plot(rw_var)\n",
    "plt.plot(day_ahead_return)\n",
    "plt.show()"
   ]
  },
  {
   "cell_type": "code",
   "execution_count": 25,
   "metadata": {},
   "outputs": [],
   "source": [
    "count = 0\n",
    "loc = []\n",
    "for i in range(0,len(rw_var)):\n",
    "    if rw_var[i] > day_ahead_return[i]:\n",
    "        count += 1  \n",
    "        loc.append(i)\n"
   ]
  },
  {
   "cell_type": "code",
   "execution_count": null,
   "metadata": {},
   "outputs": [],
   "source": []
  },
  {
   "cell_type": "code",
   "execution_count": null,
   "metadata": {},
   "outputs": [],
   "source": []
  },
  {
   "cell_type": "code",
   "execution_count": null,
   "metadata": {},
   "outputs": [],
   "source": []
  }
 ],
 "metadata": {
  "kernelspec": {
   "display_name": "Python 3",
   "language": "python",
   "name": "python3"
  },
  "language_info": {
   "codemirror_mode": {
    "name": "ipython",
    "version": 3
   },
   "file_extension": ".py",
   "mimetype": "text/x-python",
   "name": "python",
   "nbconvert_exporter": "python",
   "pygments_lexer": "ipython3",
   "version": "3.6.5"
  }
 },
 "nbformat": 4,
 "nbformat_minor": 2
}
